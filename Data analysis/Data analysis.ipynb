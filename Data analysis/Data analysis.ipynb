{
 "cells": [
  {
   "cell_type": "markdown",
   "id": "02b08c96",
   "metadata": {},
   "source": [
    "#### **Описание:**\n",
    "- #### [`I. Data reading`](#Data-reading)       \n",
    "    - ##### [Чтение и представление данных](#Чтение-и-представление-данных-в-формате-dataframe) \n",
    "- #### [`II. Data preparation`](#Data-preparation)    \n",
    "    - ##### [Подготовка и переформатирование данных](#Подготовка-и-переформатирование-данных)  \n",
    "    - ##### [Агрегирование данных](#Агрегирование-данных)  \n",
    "- #### [`III. Data analysis`](#Data-analysis)  \n",
    "    - ##### [Описательная статистика](#Описательная-статистика-медиана-дисперсия-и-стандартное-отклонение)  \n",
    "    - ##### [Визуализация](#Визуализация-график-boxplot-гистограммы)"
   ]
  },
  {
   "cell_type": "markdown",
   "id": "5e3947b3",
   "metadata": {},
   "source": []
  },
  {
   "cell_type": "markdown",
   "id": "5d168b51",
   "metadata": {},
   "source": [
    "# `Data reading`"
   ]
  },
  {
   "cell_type": "markdown",
   "id": "c4349ee7",
   "metadata": {},
   "source": [
    "<a id=\"item-two\"></a>\n",
    "##`Чтение и представление данных в формате DataFrame`"
   ]
  },
  {
   "cell_type": "markdown",
   "id": "a297dfdd",
   "metadata": {},
   "source": [
    "###Загрузка необходимых библиотек"
   ]
  },
  {
   "cell_type": "code",
   "execution_count": 2,
   "id": "5d5ea743-30b7-49b7-9a9d-b488fa329454",
   "metadata": {},
   "outputs": [],
   "source": [
    "import pandas as pd\n",
    "import numpy as np\n",
    "import matplotlib.pyplot as plt\n",
    "import seaborn as sns\n",
    "import scipy.stats as st\n",
    "from functools import reduce"
   ]
  },
  {
   "cell_type": "markdown",
   "id": "86903975",
   "metadata": {},
   "source": [
    "###Открытие файлов и изучение общей информации"
   ]
  },
  {
   "cell_type": "markdown",
   "id": "6b539b35",
   "metadata": {},
   "source": [
    "Исходные данные представляют собой 5 таблиц: calls, internet, messages, tariffs, users "
   ]
  },
  {
   "cell_type": "markdown",
   "id": "01bb383f",
   "metadata": {},
   "source": [
    "####Calls"
   ]
  },
  {
   "cell_type": "code",
   "execution_count": 3,
   "id": "92ea3e43",
   "metadata": {},
   "outputs": [
    {
     "data": {
      "text/html": [
       "<div>\n",
       "<style scoped>\n",
       "    .dataframe tbody tr th:only-of-type {\n",
       "        vertical-align: middle;\n",
       "    }\n",
       "\n",
       "    .dataframe tbody tr th {\n",
       "        vertical-align: top;\n",
       "    }\n",
       "\n",
       "    .dataframe thead th {\n",
       "        text-align: right;\n",
       "    }\n",
       "</style>\n",
       "<table border=\"1\" class=\"dataframe\">\n",
       "  <thead>\n",
       "    <tr style=\"text-align: right;\">\n",
       "      <th></th>\n",
       "      <th>id</th>\n",
       "      <th>call_date</th>\n",
       "      <th>duration</th>\n",
       "      <th>user_id</th>\n",
       "    </tr>\n",
       "  </thead>\n",
       "  <tbody>\n",
       "    <tr>\n",
       "      <th>0</th>\n",
       "      <td>1000_0</td>\n",
       "      <td>2018-07-25</td>\n",
       "      <td>0.00</td>\n",
       "      <td>1000</td>\n",
       "    </tr>\n",
       "    <tr>\n",
       "      <th>1</th>\n",
       "      <td>1000_1</td>\n",
       "      <td>2018-08-17</td>\n",
       "      <td>0.00</td>\n",
       "      <td>1000</td>\n",
       "    </tr>\n",
       "    <tr>\n",
       "      <th>2</th>\n",
       "      <td>1000_2</td>\n",
       "      <td>2018-06-11</td>\n",
       "      <td>2.85</td>\n",
       "      <td>1000</td>\n",
       "    </tr>\n",
       "    <tr>\n",
       "      <th>3</th>\n",
       "      <td>1000_3</td>\n",
       "      <td>2018-09-21</td>\n",
       "      <td>13.80</td>\n",
       "      <td>1000</td>\n",
       "    </tr>\n",
       "    <tr>\n",
       "      <th>4</th>\n",
       "      <td>1000_4</td>\n",
       "      <td>2018-12-15</td>\n",
       "      <td>5.18</td>\n",
       "      <td>1000</td>\n",
       "    </tr>\n",
       "  </tbody>\n",
       "</table>\n",
       "</div>"
      ],
      "text/plain": [
       "       id   call_date  duration  user_id\n",
       "0  1000_0  2018-07-25      0.00     1000\n",
       "1  1000_1  2018-08-17      0.00     1000\n",
       "2  1000_2  2018-06-11      2.85     1000\n",
       "3  1000_3  2018-09-21     13.80     1000\n",
       "4  1000_4  2018-12-15      5.18     1000"
      ]
     },
     "execution_count": 3,
     "metadata": {},
     "output_type": "execute_result"
    }
   ],
   "source": [
    "calls=pd.read_csv('datasets/calls.csv')\n",
    "calls.head()\n",
    "\n",
    "# id — уникальный номер звонка\n",
    "# call_date — дата звонка\n",
    "# duration — длительность звонка в минутах\n",
    "# user_id — идентификатор пользователя, сделавшего звонок"
   ]
  },
  {
   "cell_type": "markdown",
   "id": "28366048",
   "metadata": {},
   "source": [
    "####Internet"
   ]
  },
  {
   "cell_type": "code",
   "execution_count": 4,
   "id": "71cd9f28",
   "metadata": {},
   "outputs": [
    {
     "data": {
      "text/html": [
       "<div>\n",
       "<style scoped>\n",
       "    .dataframe tbody tr th:only-of-type {\n",
       "        vertical-align: middle;\n",
       "    }\n",
       "\n",
       "    .dataframe tbody tr th {\n",
       "        vertical-align: top;\n",
       "    }\n",
       "\n",
       "    .dataframe thead th {\n",
       "        text-align: right;\n",
       "    }\n",
       "</style>\n",
       "<table border=\"1\" class=\"dataframe\">\n",
       "  <thead>\n",
       "    <tr style=\"text-align: right;\">\n",
       "      <th></th>\n",
       "      <th>id</th>\n",
       "      <th>mb_used</th>\n",
       "      <th>session_date</th>\n",
       "      <th>user_id</th>\n",
       "    </tr>\n",
       "  </thead>\n",
       "  <tbody>\n",
       "    <tr>\n",
       "      <th>0</th>\n",
       "      <td>1000_0</td>\n",
       "      <td>112.95</td>\n",
       "      <td>2018-11-25</td>\n",
       "      <td>1000</td>\n",
       "    </tr>\n",
       "    <tr>\n",
       "      <th>1</th>\n",
       "      <td>1000_1</td>\n",
       "      <td>1052.81</td>\n",
       "      <td>2018-09-07</td>\n",
       "      <td>1000</td>\n",
       "    </tr>\n",
       "    <tr>\n",
       "      <th>2</th>\n",
       "      <td>1000_2</td>\n",
       "      <td>1197.26</td>\n",
       "      <td>2018-06-25</td>\n",
       "      <td>1000</td>\n",
       "    </tr>\n",
       "    <tr>\n",
       "      <th>3</th>\n",
       "      <td>1000_3</td>\n",
       "      <td>550.27</td>\n",
       "      <td>2018-08-22</td>\n",
       "      <td>1000</td>\n",
       "    </tr>\n",
       "    <tr>\n",
       "      <th>4</th>\n",
       "      <td>1000_4</td>\n",
       "      <td>302.56</td>\n",
       "      <td>2018-09-24</td>\n",
       "      <td>1000</td>\n",
       "    </tr>\n",
       "  </tbody>\n",
       "</table>\n",
       "</div>"
      ],
      "text/plain": [
       "       id  mb_used session_date  user_id\n",
       "0  1000_0   112.95   2018-11-25     1000\n",
       "1  1000_1  1052.81   2018-09-07     1000\n",
       "2  1000_2  1197.26   2018-06-25     1000\n",
       "3  1000_3   550.27   2018-08-22     1000\n",
       "4  1000_4   302.56   2018-09-24     1000"
      ]
     },
     "execution_count": 4,
     "metadata": {},
     "output_type": "execute_result"
    }
   ],
   "source": [
    "internet=pd.read_csv('datasets/internet.csv', index_col=0)\n",
    "internet.head()\n",
    "\n",
    "# id — уникальный номер сессии\n",
    "# mb_used — объём потраченного за сессию интернет-трафика (в мегабайтах)\n",
    "# session_date — дата интернет-сессии\n",
    "# user_id — идентификатор пользователя"
   ]
  },
  {
   "cell_type": "markdown",
   "id": "35d619c8",
   "metadata": {},
   "source": [
    "####Messages"
   ]
  },
  {
   "cell_type": "code",
   "execution_count": 5,
   "id": "06333753-8fe5-4547-9c8f-b1c523c6599b",
   "metadata": {},
   "outputs": [
    {
     "data": {
      "text/html": [
       "<div>\n",
       "<style scoped>\n",
       "    .dataframe tbody tr th:only-of-type {\n",
       "        vertical-align: middle;\n",
       "    }\n",
       "\n",
       "    .dataframe tbody tr th {\n",
       "        vertical-align: top;\n",
       "    }\n",
       "\n",
       "    .dataframe thead th {\n",
       "        text-align: right;\n",
       "    }\n",
       "</style>\n",
       "<table border=\"1\" class=\"dataframe\">\n",
       "  <thead>\n",
       "    <tr style=\"text-align: right;\">\n",
       "      <th></th>\n",
       "      <th>id</th>\n",
       "      <th>message_date</th>\n",
       "      <th>user_id</th>\n",
       "    </tr>\n",
       "  </thead>\n",
       "  <tbody>\n",
       "    <tr>\n",
       "      <th>0</th>\n",
       "      <td>1000_0</td>\n",
       "      <td>2018-06-27</td>\n",
       "      <td>1000</td>\n",
       "    </tr>\n",
       "    <tr>\n",
       "      <th>1</th>\n",
       "      <td>1000_1</td>\n",
       "      <td>2018-10-08</td>\n",
       "      <td>1000</td>\n",
       "    </tr>\n",
       "    <tr>\n",
       "      <th>2</th>\n",
       "      <td>1000_2</td>\n",
       "      <td>2018-08-04</td>\n",
       "      <td>1000</td>\n",
       "    </tr>\n",
       "    <tr>\n",
       "      <th>3</th>\n",
       "      <td>1000_3</td>\n",
       "      <td>2018-06-16</td>\n",
       "      <td>1000</td>\n",
       "    </tr>\n",
       "    <tr>\n",
       "      <th>4</th>\n",
       "      <td>1000_4</td>\n",
       "      <td>2018-12-05</td>\n",
       "      <td>1000</td>\n",
       "    </tr>\n",
       "  </tbody>\n",
       "</table>\n",
       "</div>"
      ],
      "text/plain": [
       "       id message_date  user_id\n",
       "0  1000_0   2018-06-27     1000\n",
       "1  1000_1   2018-10-08     1000\n",
       "2  1000_2   2018-08-04     1000\n",
       "3  1000_3   2018-06-16     1000\n",
       "4  1000_4   2018-12-05     1000"
      ]
     },
     "execution_count": 5,
     "metadata": {},
     "output_type": "execute_result"
    }
   ],
   "source": [
    "messages=pd.read_csv('datasets/messages.csv')\n",
    "messages.head()\n",
    "\n",
    "# id — уникальный номер сообщения\n",
    "# message_date — дата сообщения\n",
    "# user_id — идентификатор пользователя, отправившего сообщение"
   ]
  },
  {
   "cell_type": "markdown",
   "id": "dbaaa83e",
   "metadata": {},
   "source": [
    "####Tariffs"
   ]
  },
  {
   "cell_type": "code",
   "execution_count": 6,
   "id": "339796b6-a2ee-4732-9db5-8a645a8c9070",
   "metadata": {},
   "outputs": [
    {
     "data": {
      "text/html": [
       "<div>\n",
       "<style scoped>\n",
       "    .dataframe tbody tr th:only-of-type {\n",
       "        vertical-align: middle;\n",
       "    }\n",
       "\n",
       "    .dataframe tbody tr th {\n",
       "        vertical-align: top;\n",
       "    }\n",
       "\n",
       "    .dataframe thead th {\n",
       "        text-align: right;\n",
       "    }\n",
       "</style>\n",
       "<table border=\"1\" class=\"dataframe\">\n",
       "  <thead>\n",
       "    <tr style=\"text-align: right;\">\n",
       "      <th></th>\n",
       "      <th>messages_included</th>\n",
       "      <th>mb_per_month_included</th>\n",
       "      <th>minutes_included</th>\n",
       "      <th>rub_monthly_fee</th>\n",
       "      <th>rub_per_gb</th>\n",
       "      <th>rub_per_message</th>\n",
       "      <th>rub_per_minute</th>\n",
       "      <th>tariff_name</th>\n",
       "    </tr>\n",
       "  </thead>\n",
       "  <tbody>\n",
       "    <tr>\n",
       "      <th>0</th>\n",
       "      <td>50</td>\n",
       "      <td>15360</td>\n",
       "      <td>500</td>\n",
       "      <td>550</td>\n",
       "      <td>200</td>\n",
       "      <td>3</td>\n",
       "      <td>3</td>\n",
       "      <td>classic</td>\n",
       "    </tr>\n",
       "    <tr>\n",
       "      <th>1</th>\n",
       "      <td>1000</td>\n",
       "      <td>30720</td>\n",
       "      <td>3000</td>\n",
       "      <td>1950</td>\n",
       "      <td>150</td>\n",
       "      <td>1</td>\n",
       "      <td>1</td>\n",
       "      <td>vip</td>\n",
       "    </tr>\n",
       "  </tbody>\n",
       "</table>\n",
       "</div>"
      ],
      "text/plain": [
       "   messages_included  mb_per_month_included  minutes_included  \\\n",
       "0                 50                  15360               500   \n",
       "1               1000                  30720              3000   \n",
       "\n",
       "   rub_monthly_fee  rub_per_gb  rub_per_message  rub_per_minute tariff_name  \n",
       "0              550         200                3               3     classic  \n",
       "1             1950         150                1               1         vip  "
      ]
     },
     "execution_count": 6,
     "metadata": {},
     "output_type": "execute_result"
    }
   ],
   "source": [
    "tariffs=pd.read_csv('datasets/tariffs.csv')\n",
    "tariffs.head()\n",
    "\n",
    "# tariff_name — название тарифа\n",
    "# rub_monthly_fee — ежемесячная абонентская плата в рублях\n",
    "# minutes_included — количество минут разговора в месяц, включённых в абонентскую плату\n",
    "# messages_included — количество сообщений в месяц, включённых в абонентскую плату\n",
    "# mb_per_month_included — объём интернет-трафика, включённого в абонентскую плату (в мегабайтах)\n",
    "# rub_per_minute — стоимость минуты разговора сверх тарифного пакета\n",
    "# rub_per_message — стоимость отправки сообщения сверх тарифного пакета\n",
    "# rub_per_gb — стоимость дополнительного гигабайта интернет-трафика сверх тарифного пакета"
   ]
  },
  {
   "cell_type": "markdown",
   "id": "cd848645",
   "metadata": {},
   "source": [
    "####Users"
   ]
  },
  {
   "cell_type": "code",
   "execution_count": 8,
   "id": "3c2d2fb4-9ef2-41c6-a9b1-12fb28163a3c",
   "metadata": {},
   "outputs": [
    {
     "data": {
      "text/html": [
       "<div>\n",
       "<style scoped>\n",
       "    .dataframe tbody tr th:only-of-type {\n",
       "        vertical-align: middle;\n",
       "    }\n",
       "\n",
       "    .dataframe tbody tr th {\n",
       "        vertical-align: top;\n",
       "    }\n",
       "\n",
       "    .dataframe thead th {\n",
       "        text-align: right;\n",
       "    }\n",
       "</style>\n",
       "<table border=\"1\" class=\"dataframe\">\n",
       "  <thead>\n",
       "    <tr style=\"text-align: right;\">\n",
       "      <th></th>\n",
       "      <th>user_id</th>\n",
       "      <th>age</th>\n",
       "      <th>churn_date</th>\n",
       "      <th>city</th>\n",
       "      <th>first_name</th>\n",
       "      <th>last_name</th>\n",
       "      <th>reg_date</th>\n",
       "      <th>tariff</th>\n",
       "    </tr>\n",
       "  </thead>\n",
       "  <tbody>\n",
       "    <tr>\n",
       "      <th>0</th>\n",
       "      <td>1000</td>\n",
       "      <td>52</td>\n",
       "      <td>NaN</td>\n",
       "      <td>РљСЂР°СЃРЅРѕРґР°СЂ</td>\n",
       "      <td>Р Р°С„Р°РёР»</td>\n",
       "      <td>Р’РµСЂРµС‰Р°РіРёРЅ</td>\n",
       "      <td>2018-05-25</td>\n",
       "      <td>vip</td>\n",
       "    </tr>\n",
       "    <tr>\n",
       "      <th>1</th>\n",
       "      <td>1001</td>\n",
       "      <td>41</td>\n",
       "      <td>NaN</td>\n",
       "      <td>РњРѕСЃРєРІР°</td>\n",
       "      <td>РРІР°РЅ</td>\n",
       "      <td>Р•Р¶РѕРІ</td>\n",
       "      <td>2018-11-01</td>\n",
       "      <td>classic</td>\n",
       "    </tr>\n",
       "    <tr>\n",
       "      <th>2</th>\n",
       "      <td>1002</td>\n",
       "      <td>59</td>\n",
       "      <td>NaN</td>\n",
       "      <td>РЎС‚РµСЂР»РёС‚Р°РјР°Рє</td>\n",
       "      <td>Р•РІРіРµРЅРёР№</td>\n",
       "      <td>РђР±СЂР°РјРѕРІРёС‡</td>\n",
       "      <td>2018-06-17</td>\n",
       "      <td>classic</td>\n",
       "    </tr>\n",
       "    <tr>\n",
       "      <th>3</th>\n",
       "      <td>1003</td>\n",
       "      <td>23</td>\n",
       "      <td>NaN</td>\n",
       "      <td>РњРѕСЃРєРІР°</td>\n",
       "      <td>Р‘РµР»Р»Р°</td>\n",
       "      <td>Р‘РµР»СЏРєРѕРІР°</td>\n",
       "      <td>2018-08-17</td>\n",
       "      <td>vip</td>\n",
       "    </tr>\n",
       "    <tr>\n",
       "      <th>4</th>\n",
       "      <td>1004</td>\n",
       "      <td>68</td>\n",
       "      <td>NaN</td>\n",
       "      <td>РќРѕРІРѕРєСѓР·РЅРµС†Рє</td>\n",
       "      <td>РўР°С‚СЊСЏРЅР°</td>\n",
       "      <td>РђРІРґРµРµРЅРєРѕ</td>\n",
       "      <td>2018-05-14</td>\n",
       "      <td>vip</td>\n",
       "    </tr>\n",
       "  </tbody>\n",
       "</table>\n",
       "</div>"
      ],
      "text/plain": [
       "   user_id  age churn_date                    city      first_name  \\\n",
       "0     1000   52        NaN      РљСЂР°СЃРЅРѕРґР°СЂ    Р Р°С„Р°РёР»   \n",
       "1     1001   41        NaN            РњРѕСЃРєРІР°        РРІР°РЅ   \n",
       "2     1002   59        NaN  РЎС‚РµСЂР»РёС‚Р°РјР°Рє  Р•РІРіРµРЅРёР№   \n",
       "3     1003   23        NaN            РњРѕСЃРєРІР°      Р‘РµР»Р»Р°   \n",
       "4     1004   68        NaN  РќРѕРІРѕРєСѓР·РЅРµС†Рє  РўР°С‚СЊСЏРЅР°   \n",
       "\n",
       "            last_name    reg_date   tariff  \n",
       "0  Р’РµСЂРµС‰Р°РіРёРЅ  2018-05-25      vip  \n",
       "1            Р•Р¶РѕРІ  2018-11-01  classic  \n",
       "2  РђР±СЂР°РјРѕРІРёС‡  2018-06-17  classic  \n",
       "3    Р‘РµР»СЏРєРѕРІР°  2018-08-17      vip  \n",
       "4    РђРІРґРµРµРЅРєРѕ  2018-05-14      vip  "
      ]
     },
     "execution_count": 8,
     "metadata": {},
     "output_type": "execute_result"
    }
   ],
   "source": [
    "users=pd.read_csv('datasets/users.csv')\n",
    "users.head()\n",
    "\n",
    "# user_id — уникальный идентификатор пользователя\n",
    "# first_name — имя пользователя\n",
    "# last_name — фамилия пользователя\n",
    "# age — возраст пользователя (годы)\n",
    "# reg_date — дата подключения тарифа (день, месяц, год)\n",
    "# churn_date — дата прекращения пользования тарифом (если значение пропущено, то тариф ещё действовал на момент выгрузки данных)\n",
    "# city — город проживания пользователя\n",
    "# tariff — название тарифного плана"
   ]
  },
  {
   "cell_type": "markdown",
   "id": "aa9093be",
   "metadata": {},
   "source": [
    "---"
   ]
  },
  {
   "cell_type": "markdown",
   "id": "8c2f34d1",
   "metadata": {},
   "source": [
    "<a id=\"item-two\"></a>"
   ]
  },
  {
   "cell_type": "markdown",
   "id": "bff77647",
   "metadata": {},
   "source": [
    "#`Data preparation`"
   ]
  },
  {
   "cell_type": "markdown",
   "id": "cafdc2db",
   "metadata": {},
   "source": [
    "<a id=\"item-four\"></a>\n",
    "##`1. Подготовка и переформатирование данных` "
   ]
  },
  {
   "cell_type": "markdown",
   "id": "28491d08",
   "metadata": {},
   "source": [
    "###Calls"
   ]
  },
  {
   "cell_type": "code",
   "execution_count": 9,
   "id": "5ea1f426",
   "metadata": {},
   "outputs": [
    {
     "name": "stdout",
     "output_type": "stream",
     "text": [
      "<class 'pandas.core.frame.DataFrame'>\n",
      "RangeIndex: 202607 entries, 0 to 202606\n",
      "Data columns (total 4 columns):\n",
      " #   Column     Non-Null Count   Dtype  \n",
      "---  ------     --------------   -----  \n",
      " 0   id         202607 non-null  object \n",
      " 1   call_date  202607 non-null  object \n",
      " 2   duration   202607 non-null  float64\n",
      " 3   user_id    202607 non-null  int64  \n",
      "dtypes: float64(1), int64(1), object(2)\n",
      "memory usage: 6.2+ MB\n"
     ]
    }
   ],
   "source": [
    "# Сводная информация о содержимом для анализа типа данных\n",
    "calls.info()"
   ]
  },
  {
   "cell_type": "code",
   "execution_count": 10,
   "id": "e7a4331b-897c-4e1c-9664-6ebdd61c1ff1",
   "metadata": {},
   "outputs": [
    {
     "data": {
      "text/plain": [
       "duration\n",
       "0.0    39613\n",
       "Name: count, dtype: int64"
      ]
     },
     "execution_count": 10,
     "metadata": {},
     "output_type": "execute_result"
    }
   ],
   "source": [
    "# Количество звонков с длительностью, равной нулю\n",
    "calls.loc[calls['duration'] == 0, 'duration'].value_counts()"
   ]
  },
  {
   "cell_type": "markdown",
   "id": "64c88113",
   "metadata": {},
   "source": [
    "###Internet"
   ]
  },
  {
   "cell_type": "code",
   "execution_count": 11,
   "id": "c089f943-3e4b-48fb-b5bd-57a9fbd37996",
   "metadata": {},
   "outputs": [
    {
     "name": "stdout",
     "output_type": "stream",
     "text": [
      "<class 'pandas.core.frame.DataFrame'>\n",
      "Index: 149396 entries, 0 to 149395\n",
      "Data columns (total 4 columns):\n",
      " #   Column        Non-Null Count   Dtype  \n",
      "---  ------        --------------   -----  \n",
      " 0   id            149396 non-null  object \n",
      " 1   mb_used       149396 non-null  float64\n",
      " 2   session_date  149396 non-null  object \n",
      " 3   user_id       149396 non-null  int64  \n",
      "dtypes: float64(1), int64(1), object(2)\n",
      "memory usage: 5.7+ MB\n"
     ]
    }
   ],
   "source": [
    "# Сводная информация о содержимом для анализа типа данных\n",
    "internet.info()"
   ]
  },
  {
   "cell_type": "code",
   "execution_count": 12,
   "id": "90f4d4cd-865c-4c7f-a5d3-b05aab9c7098",
   "metadata": {},
   "outputs": [
    {
     "data": {
      "text/plain": [
       "mb_used\n",
       "0.0    19598\n",
       "Name: count, dtype: int64"
      ]
     },
     "execution_count": 12,
     "metadata": {},
     "output_type": "execute_result"
    }
   ],
   "source": [
    "# Количество ячеек с объёмом трафика, равный нулю\n",
    "internet.loc[internet['mb_used'] == 0, 'mb_used'].value_counts()"
   ]
  },
  {
   "cell_type": "markdown",
   "id": "3080744d",
   "metadata": {},
   "source": [
    "###Messages"
   ]
  },
  {
   "cell_type": "code",
   "execution_count": 13,
   "id": "72d46309-a206-4ec1-a668-c09448ce473d",
   "metadata": {},
   "outputs": [
    {
     "name": "stdout",
     "output_type": "stream",
     "text": [
      "<class 'pandas.core.frame.DataFrame'>\n",
      "RangeIndex: 123036 entries, 0 to 123035\n",
      "Data columns (total 3 columns):\n",
      " #   Column        Non-Null Count   Dtype \n",
      "---  ------        --------------   ----- \n",
      " 0   id            123036 non-null  object\n",
      " 1   message_date  123036 non-null  object\n",
      " 2   user_id       123036 non-null  int64 \n",
      "dtypes: int64(1), object(2)\n",
      "memory usage: 2.8+ MB\n"
     ]
    }
   ],
   "source": [
    "messages.info()"
   ]
  },
  {
   "cell_type": "markdown",
   "id": "a054d895",
   "metadata": {},
   "source": [
    "###Данные, требующие обработки:\n",
    "1) Приведение временных данных к формату datetime"
   ]
  },
  {
   "cell_type": "code",
   "execution_count": 14,
   "id": "b1fc2a46-971f-4c38-b7fd-ffa8b49f9b42",
   "metadata": {},
   "outputs": [],
   "source": [
    "calls['call_date'] = pd.to_datetime(calls['call_date'], format='%Y-%m-%d')\n",
    "internet['session_date'] = pd.to_datetime(internet['session_date'], format='%Y-%m-%d')\n",
    "messages['message_date'] = pd.to_datetime(messages['message_date'], format='%Y-%m-%d')\n",
    "users['churn_date'] = pd.to_datetime(users['churn_date'], format='%Y-%m-%d')\n",
    "users['reg_date'] = pd.to_datetime(users['reg_date'], format='%Y-%m-%d')"
   ]
  },
  {
   "cell_type": "markdown",
   "id": "e0b1e5ca",
   "metadata": {},
   "source": [
    "2) Приведение данных формата float64 к целочисленному формату int"
   ]
  },
  {
   "cell_type": "code",
   "execution_count": 15,
   "id": "13138a2b-4d71-494e-99f5-fe32ff238cdf",
   "metadata": {},
   "outputs": [],
   "source": [
    "calls['duration'] = np.ceil(calls['duration']).astype('int')\n",
    "internet['mb_used'] = np.ceil(internet['mb_used']).astype('int')"
   ]
  },
  {
   "cell_type": "markdown",
   "id": "6bc4c1ba",
   "metadata": {},
   "source": [
    "3) Замена данных с нулевым значением на единицу"
   ]
  },
  {
   "cell_type": "code",
   "execution_count": 16,
   "id": "fb4f0bcb-6345-4199-980d-963234c66a23",
   "metadata": {},
   "outputs": [],
   "source": [
    "calls.loc[calls['duration'] == 0, 'duration'] = 1\n",
    "internet.loc[internet['mb_used'] == 0, 'mb_used'] = 1"
   ]
  },
  {
   "cell_type": "markdown",
   "id": "c1720cd3",
   "metadata": {},
   "source": [
    "<a id=\"item-five\"></a>\n",
    "##`2. Агрегирование данных:`"
   ]
  },
  {
   "cell_type": "markdown",
   "id": "c27abce6",
   "metadata": {},
   "source": [
    "###2.1. Создание сводной таблицы:      "
   ]
  },
  {
   "cell_type": "markdown",
   "id": "5c06a3b7",
   "metadata": {},
   "source": [
    "* продолжительность израсходованных минут по месяцам(\"duration\")\n",
    "* количество сделанных звонков по месяцам(\"calls\")\n",
    "* количество отправленных сообщений по месяцам (\"messages\")\n",
    "* объём израсходованного интернет-трафика по месяцам (\"mb_used\")"
   ]
  },
  {
   "cell_type": "code",
   "execution_count": 17,
   "id": "49be2061-222e-45eb-bbe1-d86d5033a1f7",
   "metadata": {},
   "outputs": [
    {
     "data": {
      "text/html": [
       "<div>\n",
       "<style scoped>\n",
       "    .dataframe tbody tr th:only-of-type {\n",
       "        vertical-align: middle;\n",
       "    }\n",
       "\n",
       "    .dataframe tbody tr th {\n",
       "        vertical-align: top;\n",
       "    }\n",
       "\n",
       "    .dataframe thead th {\n",
       "        text-align: right;\n",
       "    }\n",
       "</style>\n",
       "<table border=\"1\" class=\"dataframe\">\n",
       "  <thead>\n",
       "    <tr style=\"text-align: right;\">\n",
       "      <th></th>\n",
       "      <th></th>\n",
       "      <th>duration</th>\n",
       "      <th>calls</th>\n",
       "      <th>messages</th>\n",
       "      <th>mb_used</th>\n",
       "    </tr>\n",
       "    <tr>\n",
       "      <th>user_id</th>\n",
       "      <th>month</th>\n",
       "      <th></th>\n",
       "      <th></th>\n",
       "      <th></th>\n",
       "      <th></th>\n",
       "    </tr>\n",
       "  </thead>\n",
       "  <tbody>\n",
       "    <tr>\n",
       "      <th rowspan=\"8\" valign=\"top\">1000</th>\n",
       "      <th>5</th>\n",
       "      <td>164.0</td>\n",
       "      <td>22.0</td>\n",
       "      <td>22.0</td>\n",
       "      <td>2257.0</td>\n",
       "    </tr>\n",
       "    <tr>\n",
       "      <th>6</th>\n",
       "      <td>187.0</td>\n",
       "      <td>43.0</td>\n",
       "      <td>60.0</td>\n",
       "      <td>23262.0</td>\n",
       "    </tr>\n",
       "    <tr>\n",
       "      <th>7</th>\n",
       "      <td>346.0</td>\n",
       "      <td>47.0</td>\n",
       "      <td>75.0</td>\n",
       "      <td>14017.0</td>\n",
       "    </tr>\n",
       "    <tr>\n",
       "      <th>8</th>\n",
       "      <td>418.0</td>\n",
       "      <td>52.0</td>\n",
       "      <td>81.0</td>\n",
       "      <td>14072.0</td>\n",
       "    </tr>\n",
       "    <tr>\n",
       "      <th>9</th>\n",
       "      <td>478.0</td>\n",
       "      <td>58.0</td>\n",
       "      <td>57.0</td>\n",
       "      <td>14583.0</td>\n",
       "    </tr>\n",
       "    <tr>\n",
       "      <th>10</th>\n",
       "      <td>363.0</td>\n",
       "      <td>57.0</td>\n",
       "      <td>73.0</td>\n",
       "      <td>14717.0</td>\n",
       "    </tr>\n",
       "    <tr>\n",
       "      <th>11</th>\n",
       "      <td>344.0</td>\n",
       "      <td>43.0</td>\n",
       "      <td>58.0</td>\n",
       "      <td>14769.0</td>\n",
       "    </tr>\n",
       "    <tr>\n",
       "      <th>12</th>\n",
       "      <td>341.0</td>\n",
       "      <td>46.0</td>\n",
       "      <td>70.0</td>\n",
       "      <td>9829.0</td>\n",
       "    </tr>\n",
       "    <tr>\n",
       "      <th rowspan=\"2\" valign=\"top\">1001</th>\n",
       "      <th>11</th>\n",
       "      <td>444.0</td>\n",
       "      <td>59.0</td>\n",
       "      <td>NaN</td>\n",
       "      <td>18460.0</td>\n",
       "    </tr>\n",
       "    <tr>\n",
       "      <th>12</th>\n",
       "      <td>430.0</td>\n",
       "      <td>63.0</td>\n",
       "      <td>NaN</td>\n",
       "      <td>14059.0</td>\n",
       "    </tr>\n",
       "    <tr>\n",
       "      <th rowspan=\"7\" valign=\"top\">1002</th>\n",
       "      <th>6</th>\n",
       "      <td>118.0</td>\n",
       "      <td>15.0</td>\n",
       "      <td>4.0</td>\n",
       "      <td>10878.0</td>\n",
       "    </tr>\n",
       "    <tr>\n",
       "      <th>7</th>\n",
       "      <td>219.0</td>\n",
       "      <td>26.0</td>\n",
       "      <td>11.0</td>\n",
       "      <td>17615.0</td>\n",
       "    </tr>\n",
       "    <tr>\n",
       "      <th>8</th>\n",
       "      <td>294.0</td>\n",
       "      <td>42.0</td>\n",
       "      <td>13.0</td>\n",
       "      <td>20357.0</td>\n",
       "    </tr>\n",
       "    <tr>\n",
       "      <th>9</th>\n",
       "      <td>217.0</td>\n",
       "      <td>36.0</td>\n",
       "      <td>4.0</td>\n",
       "      <td>16724.0</td>\n",
       "    </tr>\n",
       "    <tr>\n",
       "      <th>10</th>\n",
       "      <td>221.0</td>\n",
       "      <td>33.0</td>\n",
       "      <td>10.0</td>\n",
       "      <td>13913.0</td>\n",
       "    </tr>\n",
       "    <tr>\n",
       "      <th>11</th>\n",
       "      <td>250.0</td>\n",
       "      <td>32.0</td>\n",
       "      <td>16.0</td>\n",
       "      <td>18621.0</td>\n",
       "    </tr>\n",
       "    <tr>\n",
       "      <th>12</th>\n",
       "      <td>242.0</td>\n",
       "      <td>33.0</td>\n",
       "      <td>12.0</td>\n",
       "      <td>18147.0</td>\n",
       "    </tr>\n",
       "    <tr>\n",
       "      <th rowspan=\"3\" valign=\"top\">1003</th>\n",
       "      <th>8</th>\n",
       "      <td>392.0</td>\n",
       "      <td>55.0</td>\n",
       "      <td>37.0</td>\n",
       "      <td>8572.0</td>\n",
       "    </tr>\n",
       "    <tr>\n",
       "      <th>9</th>\n",
       "      <td>990.0</td>\n",
       "      <td>134.0</td>\n",
       "      <td>91.0</td>\n",
       "      <td>12479.0</td>\n",
       "    </tr>\n",
       "    <tr>\n",
       "      <th>10</th>\n",
       "      <td>866.0</td>\n",
       "      <td>108.0</td>\n",
       "      <td>83.0</td>\n",
       "      <td>14779.0</td>\n",
       "    </tr>\n",
       "  </tbody>\n",
       "</table>\n",
       "</div>"
      ],
      "text/plain": [
       "               duration  calls  messages  mb_used\n",
       "user_id month                                    \n",
       "1000    5         164.0   22.0      22.0   2257.0\n",
       "        6         187.0   43.0      60.0  23262.0\n",
       "        7         346.0   47.0      75.0  14017.0\n",
       "        8         418.0   52.0      81.0  14072.0\n",
       "        9         478.0   58.0      57.0  14583.0\n",
       "        10        363.0   57.0      73.0  14717.0\n",
       "        11        344.0   43.0      58.0  14769.0\n",
       "        12        341.0   46.0      70.0   9829.0\n",
       "1001    11        444.0   59.0       NaN  18460.0\n",
       "        12        430.0   63.0       NaN  14059.0\n",
       "1002    6         118.0   15.0       4.0  10878.0\n",
       "        7         219.0   26.0      11.0  17615.0\n",
       "        8         294.0   42.0      13.0  20357.0\n",
       "        9         217.0   36.0       4.0  16724.0\n",
       "        10        221.0   33.0      10.0  13913.0\n",
       "        11        250.0   32.0      16.0  18621.0\n",
       "        12        242.0   33.0      12.0  18147.0\n",
       "1003    8         392.0   55.0      37.0   8572.0\n",
       "        9         990.0  134.0      91.0  12479.0\n",
       "        10        866.0  108.0      83.0  14779.0"
      ]
     },
     "execution_count": 17,
     "metadata": {},
     "output_type": "execute_result"
    }
   ],
   "source": [
    "#Количество сделанных звонков и израсходованных минут разговора по месяцам\n",
    "calls['month'] = calls['call_date'].dt.month\n",
    "calls_grouped = calls.pivot_table(index=['user_id', 'month'], values='duration',  aggfunc=['sum', 'count'])\n",
    "calls_grouped.columns = ['duration', 'calls']\n",
    "\n",
    "# Количество отправленных сообщений по месяцам\n",
    "\n",
    "messages['month'] = messages['message_date'].dt.month\n",
    "messages_grouped = messages.pivot_table(index=['user_id', 'month'], values='message_date', aggfunc='count')\n",
    "messages_grouped.columns = ['messages']\n",
    "\n",
    "# Объем израсходованного интернет-трафика по месяцам\n",
    "\n",
    "internet['month'] = internet['session_date'].dt.month\n",
    "internet_grouped = internet.pivot_table(index=['user_id', 'month'], values='mb_used', aggfunc='sum')\n",
    "internet_grouped.columns = ['mb_used']\n",
    "\n",
    "# объединение трёх таблиц в одну общую сводную\n",
    "dfs = [calls_grouped, messages_grouped, internet_grouped]\n",
    "data = reduce(lambda left,right: pd.merge(left,right,on=['user_id', 'month'], how='outer'), dfs)\n",
    "data.head(20)"
   ]
  },
  {
   "cell_type": "code",
   "execution_count": 18,
   "id": "ef17634c-6271-4749-827d-90a4d0c72a55",
   "metadata": {},
   "outputs": [
    {
     "data": {
      "text/plain": [
       "duration     40\n",
       "calls        40\n",
       "messages    497\n",
       "mb_used      11\n",
       "dtype: int64"
      ]
     },
     "execution_count": 18,
     "metadata": {},
     "output_type": "execute_result"
    }
   ],
   "source": [
    "# Проверка новой таблицы на наличие пропусков\n",
    "data.isna().sum()"
   ]
  },
  {
   "cell_type": "markdown",
   "id": "8ac0ba05",
   "metadata": {},
   "source": [
    "заменим пропущенные значения нулями \n",
    "(для демонстрации различных вариаций, используя два способа):"
   ]
  },
  {
   "cell_type": "code",
   "execution_count": 19,
   "id": "6c1e8a56-4de5-4582-8fcc-80c364999fd1",
   "metadata": {},
   "outputs": [],
   "source": [
    "#Метод fillna,восполняющий отсутствующие данные указанным значением\n",
    "data['duration'].fillna(0, inplace=True)\n",
    "data['calls'].fillna(0, inplace=True)\n",
    "data['messages'].fillna(0, inplace=True)\n",
    "data['mb_used'].fillna(0, inplace=True)\n",
    "#Метод loc,использующийся для доступа к столбцу и установки указанного значения\n",
    "data.loc[data['calls'].isna(), 'calls'] = 0\n",
    "data.loc[data['duration'].isna(), 'duration'] = 0\n",
    "data.loc[data['messages'].isna(), 'messages'] = 0\n",
    "data.loc[data['mb_used'].isna(), 'mb_used'] = 0"
   ]
  },
  {
   "cell_type": "code",
   "execution_count": 20,
   "id": "8c2bbbf2-8fd4-447a-b2c5-5e7ead47847d",
   "metadata": {},
   "outputs": [
    {
     "data": {
      "text/plain": [
       "duration    0\n",
       "calls       0\n",
       "messages    0\n",
       "mb_used     0\n",
       "dtype: int64"
      ]
     },
     "execution_count": 20,
     "metadata": {},
     "output_type": "execute_result"
    }
   ],
   "source": [
    "#Повторная проверка новой таблицы на наличие пропусков\n",
    "data.isna().sum()"
   ]
  },
  {
   "cell_type": "markdown",
   "id": "580226c6",
   "metadata": {},
   "source": [
    "###2.2. Расчёт помесячной выручки с каждого пользователя"
   ]
  },
  {
   "cell_type": "code",
   "execution_count": 21,
   "id": "6c8815f3-8235-493c-8157-5c17709714cd",
   "metadata": {},
   "outputs": [
    {
     "data": {
      "text/html": [
       "<div>\n",
       "<style scoped>\n",
       "    .dataframe tbody tr th:only-of-type {\n",
       "        vertical-align: middle;\n",
       "    }\n",
       "\n",
       "    .dataframe tbody tr th {\n",
       "        vertical-align: top;\n",
       "    }\n",
       "\n",
       "    .dataframe thead th {\n",
       "        text-align: right;\n",
       "    }\n",
       "</style>\n",
       "<table border=\"1\" class=\"dataframe\">\n",
       "  <thead>\n",
       "    <tr style=\"text-align: right;\">\n",
       "      <th></th>\n",
       "      <th></th>\n",
       "      <th>duration</th>\n",
       "      <th>calls</th>\n",
       "      <th>messages</th>\n",
       "      <th>mb_used</th>\n",
       "      <th>tariff</th>\n",
       "      <th>revenue</th>\n",
       "    </tr>\n",
       "    <tr>\n",
       "      <th>user_id</th>\n",
       "      <th>month</th>\n",
       "      <th></th>\n",
       "      <th></th>\n",
       "      <th></th>\n",
       "      <th></th>\n",
       "      <th></th>\n",
       "      <th></th>\n",
       "    </tr>\n",
       "  </thead>\n",
       "  <tbody>\n",
       "    <tr>\n",
       "      <th rowspan=\"8\" valign=\"top\">1000</th>\n",
       "      <th>5</th>\n",
       "      <td>164.0</td>\n",
       "      <td>22.0</td>\n",
       "      <td>22.0</td>\n",
       "      <td>2257.0</td>\n",
       "      <td>vip</td>\n",
       "      <td>1950.000000</td>\n",
       "    </tr>\n",
       "    <tr>\n",
       "      <th>6</th>\n",
       "      <td>187.0</td>\n",
       "      <td>43.0</td>\n",
       "      <td>60.0</td>\n",
       "      <td>23262.0</td>\n",
       "      <td>vip</td>\n",
       "      <td>1950.000000</td>\n",
       "    </tr>\n",
       "    <tr>\n",
       "      <th>7</th>\n",
       "      <td>346.0</td>\n",
       "      <td>47.0</td>\n",
       "      <td>75.0</td>\n",
       "      <td>14017.0</td>\n",
       "      <td>vip</td>\n",
       "      <td>1950.000000</td>\n",
       "    </tr>\n",
       "    <tr>\n",
       "      <th>8</th>\n",
       "      <td>418.0</td>\n",
       "      <td>52.0</td>\n",
       "      <td>81.0</td>\n",
       "      <td>14072.0</td>\n",
       "      <td>vip</td>\n",
       "      <td>1950.000000</td>\n",
       "    </tr>\n",
       "    <tr>\n",
       "      <th>9</th>\n",
       "      <td>478.0</td>\n",
       "      <td>58.0</td>\n",
       "      <td>57.0</td>\n",
       "      <td>14583.0</td>\n",
       "      <td>vip</td>\n",
       "      <td>1950.000000</td>\n",
       "    </tr>\n",
       "    <tr>\n",
       "      <th>10</th>\n",
       "      <td>363.0</td>\n",
       "      <td>57.0</td>\n",
       "      <td>73.0</td>\n",
       "      <td>14717.0</td>\n",
       "      <td>vip</td>\n",
       "      <td>1950.000000</td>\n",
       "    </tr>\n",
       "    <tr>\n",
       "      <th>11</th>\n",
       "      <td>344.0</td>\n",
       "      <td>43.0</td>\n",
       "      <td>58.0</td>\n",
       "      <td>14769.0</td>\n",
       "      <td>vip</td>\n",
       "      <td>1950.000000</td>\n",
       "    </tr>\n",
       "    <tr>\n",
       "      <th>12</th>\n",
       "      <td>341.0</td>\n",
       "      <td>46.0</td>\n",
       "      <td>70.0</td>\n",
       "      <td>9829.0</td>\n",
       "      <td>vip</td>\n",
       "      <td>1950.000000</td>\n",
       "    </tr>\n",
       "    <tr>\n",
       "      <th rowspan=\"2\" valign=\"top\">1001</th>\n",
       "      <th>11</th>\n",
       "      <td>444.0</td>\n",
       "      <td>59.0</td>\n",
       "      <td>0.0</td>\n",
       "      <td>18460.0</td>\n",
       "      <td>classic</td>\n",
       "      <td>837.468750</td>\n",
       "    </tr>\n",
       "    <tr>\n",
       "      <th>12</th>\n",
       "      <td>430.0</td>\n",
       "      <td>63.0</td>\n",
       "      <td>0.0</td>\n",
       "      <td>14059.0</td>\n",
       "      <td>classic</td>\n",
       "      <td>-64.101562</td>\n",
       "    </tr>\n",
       "  </tbody>\n",
       "</table>\n",
       "</div>"
      ],
      "text/plain": [
       "               duration  calls  messages  mb_used   tariff      revenue\n",
       "user_id month                                                          \n",
       "1000    5         164.0   22.0      22.0   2257.0      vip  1950.000000\n",
       "        6         187.0   43.0      60.0  23262.0      vip  1950.000000\n",
       "        7         346.0   47.0      75.0  14017.0      vip  1950.000000\n",
       "        8         418.0   52.0      81.0  14072.0      vip  1950.000000\n",
       "        9         478.0   58.0      57.0  14583.0      vip  1950.000000\n",
       "        10        363.0   57.0      73.0  14717.0      vip  1950.000000\n",
       "        11        344.0   43.0      58.0  14769.0      vip  1950.000000\n",
       "        12        341.0   46.0      70.0   9829.0      vip  1950.000000\n",
       "1001    11        444.0   59.0       0.0  18460.0  classic   837.468750\n",
       "        12        430.0   63.0       0.0  14059.0  classic   -64.101562"
      ]
     },
     "execution_count": 21,
     "metadata": {},
     "output_type": "execute_result"
    }
   ],
   "source": [
    "# в сводную таблицу по месяцам добавим наименование используемого тарифа для каждого пользователя\n",
    "for i in data.index: data.loc[i, 'tariff'] = users.loc[i[0]-1000, 'tariff']\n",
    "\n",
    "# функция подсчета выручки с каждого пользователя в месяц\n",
    "def det_revenue(row):\n",
    "    messages = row['messages']\n",
    "    mb_used = row['mb_used']\n",
    "    tariff = row['tariff']\n",
    "    duration = row['duration']\n",
    "    calls = row['calls']\n",
    "    \n",
    "    if tariff == 'classic':\n",
    "        over_duration = duration - tariffs.loc[0, 'minutes_included']#продолжительность минут сверх тарифа\n",
    "        over_mb = mb_used - tariffs.loc[0, 'mb_per_month_included']#объем трафика сверх тарифа\n",
    "        over_messages = messages - tariffs.loc[0, 'messages_included']#количество сообщений сверх тарифа\n",
    "        \n",
    "        if over_duration < 0: extra_duration = 0\n",
    "        if over_mb < 0: extra_mb = 0\n",
    "        if over_messages < 0: extra_messages = 0\n",
    "        \n",
    "        return (tariffs.loc[0, 'rub_per_message'] * over_messages + \n",
    "                   (tariffs.loc[0, 'rub_per_gb'] / 1024) * over_mb + \n",
    "                   tariffs.loc[0, 'rub_per_minute'] * over_duration + \n",
    "                   tariffs.loc[0, 'rub_monthly_fee']\n",
    "                  ) #расчёт месячной выручки\n",
    "    else:\n",
    "        over_duration = duration - tariffs.loc[1, 'minutes_included']\n",
    "        over_mb = mb_used - tariffs.loc[1, 'mb_per_month_included']\n",
    "        over_messages = messages - tariffs.loc[1, 'messages_included']\n",
    "        \n",
    "        if over_duration < 0: over_duration = 0\n",
    "        if over_mb < 0: over_mb = 0\n",
    "        if over_messages < 0: over_messages = 0\n",
    "        \n",
    "        return (tariffs.loc[1, 'rub_per_message'] * over_messages + \n",
    "                   (tariffs.loc[1, 'rub_per_gb'] / 1024) * over_mb + \n",
    "                   tariffs.loc[1, 'rub_per_minute'] * over_duration + \n",
    "                   tariffs.loc[1, 'rub_monthly_fee']\n",
    "                  )\n",
    "\n",
    "data['revenue'] = data.apply(det_revenue, axis=1)\n",
    "data.head(10)"
   ]
  },
  {
   "cell_type": "markdown",
   "id": "08b6222b",
   "metadata": {},
   "source": [
    "___"
   ]
  },
  {
   "cell_type": "markdown",
   "id": "1b00654d",
   "metadata": {},
   "source": [
    "<a id=\"item-six\"></a>\n",
    "#`III. Data analysis`"
   ]
  },
  {
   "cell_type": "markdown",
   "id": "d1091651",
   "metadata": {},
   "source": [
    "##3.1. Расчёт среднего количества минут, мегабайт и сообщений в месяц"
   ]
  },
  {
   "cell_type": "code",
   "execution_count": 22,
   "id": "7d14968b-5c9e-4b47-8003-7fc1e826a6bd",
   "metadata": {},
   "outputs": [
    {
     "data": {
      "text/html": [
       "<div>\n",
       "<style scoped>\n",
       "    .dataframe tbody tr th:only-of-type {\n",
       "        vertical-align: middle;\n",
       "    }\n",
       "\n",
       "    .dataframe tbody tr th {\n",
       "        vertical-align: top;\n",
       "    }\n",
       "\n",
       "    .dataframe thead th {\n",
       "        text-align: right;\n",
       "    }\n",
       "</style>\n",
       "<table border=\"1\" class=\"dataframe\">\n",
       "  <thead>\n",
       "    <tr style=\"text-align: right;\">\n",
       "      <th></th>\n",
       "      <th>duration</th>\n",
       "      <th>mb_used</th>\n",
       "      <th>messages</th>\n",
       "      <th>revenue</th>\n",
       "      <th>tariff</th>\n",
       "    </tr>\n",
       "    <tr>\n",
       "      <th>user_id</th>\n",
       "      <th></th>\n",
       "      <th></th>\n",
       "      <th></th>\n",
       "      <th></th>\n",
       "      <th></th>\n",
       "    </tr>\n",
       "  </thead>\n",
       "  <tbody>\n",
       "    <tr>\n",
       "      <th>1000</th>\n",
       "      <td>345.0</td>\n",
       "      <td>14327.5</td>\n",
       "      <td>65.0</td>\n",
       "      <td>1950.000000</td>\n",
       "      <td>vip</td>\n",
       "    </tr>\n",
       "    <tr>\n",
       "      <th>1001</th>\n",
       "      <td>437.0</td>\n",
       "      <td>16259.5</td>\n",
       "      <td>0.0</td>\n",
       "      <td>386.683594</td>\n",
       "      <td>classic</td>\n",
       "    </tr>\n",
       "    <tr>\n",
       "      <th>1002</th>\n",
       "      <td>221.0</td>\n",
       "      <td>17615.0</td>\n",
       "      <td>11.0</td>\n",
       "      <td>30.429688</td>\n",
       "      <td>classic</td>\n",
       "    </tr>\n",
       "    <tr>\n",
       "      <th>1003</th>\n",
       "      <td>844.0</td>\n",
       "      <td>11369.0</td>\n",
       "      <td>83.0</td>\n",
       "      <td>1950.000000</td>\n",
       "      <td>vip</td>\n",
       "    </tr>\n",
       "    <tr>\n",
       "      <th>1004</th>\n",
       "      <td>136.5</td>\n",
       "      <td>17831.0</td>\n",
       "      <td>154.5</td>\n",
       "      <td>1950.000000</td>\n",
       "      <td>vip</td>\n",
       "    </tr>\n",
       "  </tbody>\n",
       "</table>\n",
       "</div>"
      ],
      "text/plain": [
       "         duration  mb_used  messages      revenue   tariff\n",
       "user_id                                                   \n",
       "1000        345.0  14327.5      65.0  1950.000000      vip\n",
       "1001        437.0  16259.5       0.0   386.683594  classic\n",
       "1002        221.0  17615.0      11.0    30.429688  classic\n",
       "1003        844.0  11369.0      83.0  1950.000000      vip\n",
       "1004        136.5  17831.0     154.5  1950.000000      vip"
      ]
     },
     "execution_count": 22,
     "metadata": {},
     "output_type": "execute_result"
    }
   ],
   "source": [
    "medians = data.pivot_table(index='user_id', values=['duration', 'messages', 'mb_used', 'revenue'], aggfunc='median')\n",
    "\n",
    "#В новую сводную таблицу добавим наименование используемого тарифа для каждого пользователя\n",
    "for user_id in users['user_id']: medians.loc[user_id, 'tariff'] = users.loc[user_id-1000, 'tariff'] \n",
    "\n",
    "medians.head()"
   ]
  },
  {
   "cell_type": "markdown",
   "id": "1a4c1d7c",
   "metadata": {},
   "source": [
    "<a id=\"item-seven\"></a>\n",
    "##3.2. Описательная статистика: медиана, дисперсия и стандартное отклонение"
   ]
  },
  {
   "cell_type": "code",
   "execution_count": 23,
   "id": "6aa91739-1469-4576-ae9f-d55cc6b21ab6",
   "metadata": {},
   "outputs": [
    {
     "data": {
      "text/html": [
       "<div>\n",
       "<style scoped>\n",
       "    .dataframe tbody tr th:only-of-type {\n",
       "        vertical-align: middle;\n",
       "    }\n",
       "\n",
       "    .dataframe tbody tr th {\n",
       "        vertical-align: top;\n",
       "    }\n",
       "\n",
       "    .dataframe thead tr th {\n",
       "        text-align: left;\n",
       "    }\n",
       "\n",
       "    .dataframe thead tr:last-of-type th {\n",
       "        text-align: right;\n",
       "    }\n",
       "</style>\n",
       "<table border=\"1\" class=\"dataframe\">\n",
       "  <thead>\n",
       "    <tr>\n",
       "      <th></th>\n",
       "      <th colspan=\"3\" halign=\"left\">duration</th>\n",
       "      <th colspan=\"3\" halign=\"left\">mb_used</th>\n",
       "      <th colspan=\"3\" halign=\"left\">messages</th>\n",
       "    </tr>\n",
       "    <tr>\n",
       "      <th></th>\n",
       "      <th>median</th>\n",
       "      <th>std</th>\n",
       "      <th>var</th>\n",
       "      <th>median</th>\n",
       "      <th>std</th>\n",
       "      <th>var</th>\n",
       "      <th>median</th>\n",
       "      <th>std</th>\n",
       "      <th>var</th>\n",
       "    </tr>\n",
       "    <tr>\n",
       "      <th>tariff</th>\n",
       "      <th></th>\n",
       "      <th></th>\n",
       "      <th></th>\n",
       "      <th></th>\n",
       "      <th></th>\n",
       "      <th></th>\n",
       "      <th></th>\n",
       "      <th></th>\n",
       "      <th></th>\n",
       "    </tr>\n",
       "  </thead>\n",
       "  <tbody>\n",
       "    <tr>\n",
       "      <th>classic</th>\n",
       "      <td>453.0</td>\n",
       "      <td>164.614327</td>\n",
       "      <td>27097.876586</td>\n",
       "      <td>16955.00</td>\n",
       "      <td>4181.498288</td>\n",
       "      <td>1.748493e+07</td>\n",
       "      <td>28.5</td>\n",
       "      <td>28.010653</td>\n",
       "      <td>784.596662</td>\n",
       "    </tr>\n",
       "    <tr>\n",
       "      <th>vip</th>\n",
       "      <td>550.5</td>\n",
       "      <td>311.491491</td>\n",
       "      <td>97026.949014</td>\n",
       "      <td>19751.75</td>\n",
       "      <td>8901.975727</td>\n",
       "      <td>7.924517e+07</td>\n",
       "      <td>47.5</td>\n",
       "      <td>49.236809</td>\n",
       "      <td>2424.263318</td>\n",
       "    </tr>\n",
       "  </tbody>\n",
       "</table>\n",
       "</div>"
      ],
      "text/plain": [
       "        duration                             mb_used               \\\n",
       "          median         std           var    median          std   \n",
       "tariff                                                              \n",
       "classic    453.0  164.614327  27097.876586  16955.00  4181.498288   \n",
       "vip        550.5  311.491491  97026.949014  19751.75  8901.975727   \n",
       "\n",
       "                      messages                          \n",
       "                  var   median        std          var  \n",
       "tariff                                                  \n",
       "classic  1.748493e+07     28.5  28.010653   784.596662  \n",
       "vip      7.924517e+07     47.5  49.236809  2424.263318  "
      ]
     },
     "execution_count": 23,
     "metadata": {},
     "output_type": "execute_result"
    }
   ],
   "source": [
    "medians.dropna(subset=['duration'], inplace=True)            \n",
    "stat_model = medians.pivot_table(index=['tariff'], values=['duration', 'mb_used', 'messages'], \n",
    "                                 aggfunc={'duration': ['median', 'var', 'std'], \n",
    "                                 'mb_used': ['median', 'var', 'std'], \n",
    "                                 'messages': ['median', 'var', 'std']})\n",
    "stat_model"
   ]
  },
  {
   "cell_type": "markdown",
   "id": "588b815b",
   "metadata": {},
   "source": [
    "<a id=\"item-eight\"></a>\n",
    "##3.3. Визуализация: график boxplot, гистограммы"
   ]
  },
  {
   "cell_type": "code",
   "execution_count": 24,
   "id": "7152cd11",
   "metadata": {},
   "outputs": [
    {
     "data": {
      "image/png": "[encoded data removed]",
      "text/plain": [
       "<Figure size 511.111x500 with 1 Axes>"
      ]
     },
     "metadata": {},
     "output_type": "display_data"
    },
    {
     "data": {
      "image/png": "[encoded data removed]",
      "text/plain": [
       "<Figure size 511.111x500 with 1 Axes>"
      ]
     },
     "metadata": {},
     "output_type": "display_data"
    },
    {
     "data": {
      "image/png": "[encoded data removed]",
      "text/plain": [
       "<Figure size 511.111x500 with 1 Axes>"
      ]
     },
     "metadata": {},
     "output_type": "display_data"
    }
   ],
   "source": [
    "#Построение графика boxplot, отражающий форму распределения, медиану, квартили и выбросы\n",
    "for column in ['duration', 'mb_used', 'messages']:    \n",
    "    sns.catplot(x=\"tariff\", y=column, kind=\"box\", data=medians, orient='v')"
   ]
  },
  {
   "cell_type": "markdown",
   "id": "45330816",
   "metadata": {},
   "source": [
    " Параметры статистики | Тариф \"Vip\"| Тариф \"Classic\"\n",
    ":----------------------|:--------------|:--------------|\n",
    "дисперсия|больше|меньше|\n",
    "медиана|больше|меньше\n",
    "выбросы|меньше|больше\n",
    "\n",
    "_На основании графика и таблицы израсходованная продолжительность минут, число сообщений и объем потраченного интернет-трафика по тарифу «Vip» имеет большую дисперсию по сравнению с тарифом «Classic», и медианы по вышеперечисленным признакам смещены в большую сторону. Но выбросов в рамках более дорогого тарифа существенно меньше_"
   ]
  },
  {
   "cell_type": "code",
   "execution_count": 25,
   "id": "665867d6-007f-43bd-b644-ce5f380a7c41",
   "metadata": {},
   "outputs": [
    {
     "data": {
      "image/png": "[encoded data removed]",
      "text/plain": [
       "<Figure size 640x480 with 1 Axes>"
      ]
     },
     "metadata": {},
     "output_type": "display_data"
    }
   ],
   "source": [
    "# Построение гистограммы распределения средней продолжительности звонков для пользователей каждого тарифа в месяц\n",
    "\n",
    "for tariff in ['vip', 'classic']:\n",
    "    sns.histplot(medians.query('tariff == @tariff')['duration'], kde=False, label=tariff)\n",
    "_ = plt.legend(['vip', 'classic'])"
   ]
  },
  {
   "cell_type": "code",
   "execution_count": 26,
   "id": "cc4cad2e-1932-4934-9d37-c9ed1ae886b9",
   "metadata": {},
   "outputs": [
    {
     "data": {
      "image/png": "[encoded data removed]",
      "text/plain": [
       "<Figure size 640x480 with 1 Axes>"
      ]
     },
     "metadata": {},
     "output_type": "display_data"
    }
   ],
   "source": [
    "# Построение гистограммы распределения среднего объёма интернет-трафика для пользователей каждого тарифа в месяц\n",
    "\n",
    "for tariff in ['vip', 'classic']:\n",
    "    sns.histplot(medians.query('tariff == @tariff')['duration'], kde=False, label=tariff)\n",
    "_ = plt.legend(['vip', 'classic'])"
   ]
  },
  {
   "cell_type": "code",
   "execution_count": 27,
   "id": "755afc23-472e-48c7-b288-951adde34a7a",
   "metadata": {},
   "outputs": [
    {
     "data": {
      "image/png": "[encoded data removed]",
      "text/plain": [
       "<Figure size 640x480 with 1 Axes>"
      ]
     },
     "metadata": {},
     "output_type": "display_data"
    }
   ],
   "source": [
    "# Построение гистограммы распределения среднего количества сообщений для пользователей каждого тарифа в месяц\n",
    "for tariff in ['vip', 'classic']:\n",
    "    sns.histplot(medians.query('tariff == @tariff')['messages'], kde=False, label=tariff)\n",
    "_ = plt.legend(['vip', 'classic'])"
   ]
  },
  {
   "cell_type": "code",
   "execution_count": 28,
   "id": "cd127ceb-d30a-494d-b608-3cfb736d167d",
   "metadata": {},
   "outputs": [
    {
     "data": {
      "image/png": "[encoded data removed]",
      "text/plain": [
       "<Figure size 640x480 with 1 Axes>"
      ]
     },
     "metadata": {},
     "output_type": "display_data"
    }
   ],
   "source": [
    "# Построение гистограммы распределения средней выручки от пользователей каждого тарифа в месяц\n",
    "for tariff in ['vip', 'classic']:\n",
    "    sns.histplot(medians.query('tariff == @tariff')['revenue'], kde=False, label=tariff)\n",
    "_ = plt.legend(['vip', 'classic'])"
   ]
  },
  {
   "cell_type": "markdown",
   "id": "28e63568",
   "metadata": {},
   "source": [
    "_пользователи тарифа \"Vip\", вероятно, приносят больше выручки за счет более дорогой стоимости тарифа_"
   ]
  },
  {
   "cell_type": "markdown",
   "id": "79725356",
   "metadata": {},
   "source": [
    "__Вывод:__\n",
    "* по графикам boxplot и гистограммам наглядно видно, что среднее использование своих возможностей у абонентов \"Vip\" больше, а также больше дисперсия по всем показателям: длительности разговора, числу сообщений и использованному интернет-трафику;\n",
    "\n",
    "* большинству пользователей \"Classic\" не хватает отведенных им 15гб интернета. Среднее надодится больше 15гб, поэтому очень много людей переплачивают за интернет. У остальных переменных в среднем никто не использует больше отведенного им лимита;\n",
    "\n",
    "* поведение пользователей тарифа \"Vip\" более разнообразное с точки зрения потребления телекоммуникационных услуг. Пользователи дорогого тарифа более свободны в выборе того, как именно использовать объемы тарифного пакета;\n",
    "\n",
    "* выручка от пользователей тарифа \"Vip\" выше по медиане и меньше по дисперсии."
   ]
  }
 ],
 "metadata": {
  "kernelspec": {
   "display_name": "Python 3 (ipykernel)",
   "language": "python",
   "name": "python3"
  },
  "language_info": {
   "codemirror_mode": {
    "name": "ipython",
    "version": 3
   },
   "file_extension": ".py",
   "mimetype": "text/x-python",
   "name": "python",
   "nbconvert_exporter": "python",
   "pygments_lexer": "ipython3",
   "version": "3.11.4"
  }
 },
 "nbformat": 4,
 "nbformat_minor": 5
}
