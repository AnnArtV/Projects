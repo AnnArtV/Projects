{
 "cells": [
  {
   "cell_type": "markdown",
   "id": "eb510b12",
   "metadata": {},
   "source": [
    "# I. Designing experiment\n",
    "## 1. Formulating a hypothesis\n",
    "Для реализации данного проекта использовался двухвыборочный z-тест для пропорций (дискретное распределение Бернулли).\n",
    "\n",
    "H0(нулевая гипеотеза): p0=p1      \n",
    "H1(альтернативная гипотеза): p0≠p1,\n",
    "\n",
    "где p0 и p1 - вероятности коэффициентов конверсии нового и старого дизайна веб-страницы соответственно. \n",
    "\n",
    "Уровень значимости α=0.05"
   ]
  },
  {
   "cell_type": "markdown",
   "id": "91983755",
   "metadata": {},
   "source": [
    "## 2. Choosing the variables\n",
    "Для реализации данного теста необходимо пользователей разделить на две группы:\n",
    "1. Control (контрольная группа) - им будет показан старый дизайн веб-страницы;\n",
    "2. Test (тестовая группа) - им будет показан новый дизайн веб-страницы.\n",
    "\n",
    "Измеряемая метрика - коэффициент конверсии, который вычисляется на основании действия пользователя на соответствующей веб-странице старого или нового образца:\n",
    "0 - пользователь не покупал продукт во время посещения веб-страницы;\n",
    "1 - пользователь купил продукт во время посещения веб-страницы.\n",
    "\n",
    "Таким образом, есть возможность рассчитать среднее значение коэффициента конверсии для каждой группы."
   ]
  },
  {
   "cell_type": "code",
   "execution_count": 46,
   "id": "e22071ca-dc11-4afa-aa67-ee4325a68b82",
   "metadata": {},
   "outputs": [],
   "source": [
    "# Загрузка необходимых библиотек\n",
    "import numpy as np\n",
    "import pandas as pd\n",
    "import scipy.stats as stats\n",
    "import statsmodels.stats.api as sms\n",
    "import matplotlib as mpl\n",
    "import matplotlib.pyplot as plt\n",
    "import seaborn as sns\n",
    "from math import ceil"
   ]
  },
  {
   "cell_type": "markdown",
   "id": "75824e3e",
   "metadata": {},
   "source": [
    "# II. Reading Data"
   ]
  },
  {
   "cell_type": "code",
   "execution_count": 47,
   "id": "c1765c75-d342-4569-a661-333a7d711a38",
   "metadata": {},
   "outputs": [
    {
     "data": {
      "text/html": [
       "<div>\n",
       "<style scoped>\n",
       "    .dataframe tbody tr th:only-of-type {\n",
       "        vertical-align: middle;\n",
       "    }\n",
       "\n",
       "    .dataframe tbody tr th {\n",
       "        vertical-align: top;\n",
       "    }\n",
       "\n",
       "    .dataframe thead th {\n",
       "        text-align: right;\n",
       "    }\n",
       "</style>\n",
       "<table border=\"1\" class=\"dataframe\">\n",
       "  <thead>\n",
       "    <tr style=\"text-align: right;\">\n",
       "      <th></th>\n",
       "      <th>user_id</th>\n",
       "      <th>timestamp</th>\n",
       "      <th>group</th>\n",
       "      <th>landing_page</th>\n",
       "      <th>converted</th>\n",
       "    </tr>\n",
       "  </thead>\n",
       "  <tbody>\n",
       "    <tr>\n",
       "      <th>64747</th>\n",
       "      <td>668348</td>\n",
       "      <td>2023-01-13 23:03:00.871707</td>\n",
       "      <td>test</td>\n",
       "      <td>new_page</td>\n",
       "      <td>0</td>\n",
       "    </tr>\n",
       "    <tr>\n",
       "      <th>271022</th>\n",
       "      <td>846237</td>\n",
       "      <td>2023-01-08 23:54:39.749796</td>\n",
       "      <td>control</td>\n",
       "      <td>old_page</td>\n",
       "      <td>0</td>\n",
       "    </tr>\n",
       "    <tr>\n",
       "      <th>105763</th>\n",
       "      <td>904612</td>\n",
       "      <td>2023-01-06 13:33:32.920018</td>\n",
       "      <td>test</td>\n",
       "      <td>new_page</td>\n",
       "      <td>0</td>\n",
       "    </tr>\n",
       "    <tr>\n",
       "      <th>31298</th>\n",
       "      <td>729992</td>\n",
       "      <td>2023-01-09 12:35:58.338542</td>\n",
       "      <td>control</td>\n",
       "      <td>old_page</td>\n",
       "      <td>0</td>\n",
       "    </tr>\n",
       "    <tr>\n",
       "      <th>2265</th>\n",
       "      <td>671625</td>\n",
       "      <td>2023-01-06 06:45:36.898059</td>\n",
       "      <td>control</td>\n",
       "      <td>old_page</td>\n",
       "      <td>0</td>\n",
       "    </tr>\n",
       "    <tr>\n",
       "      <th>138193</th>\n",
       "      <td>688175</td>\n",
       "      <td>2023-01-14 16:24:48.010241</td>\n",
       "      <td>test</td>\n",
       "      <td>new_page</td>\n",
       "      <td>0</td>\n",
       "    </tr>\n",
       "    <tr>\n",
       "      <th>100337</th>\n",
       "      <td>894912</td>\n",
       "      <td>2023-01-11 12:12:53.149893</td>\n",
       "      <td>test</td>\n",
       "      <td>new_page</td>\n",
       "      <td>0</td>\n",
       "    </tr>\n",
       "    <tr>\n",
       "      <th>63110</th>\n",
       "      <td>689680</td>\n",
       "      <td>2023-01-21 12:53:33.487486</td>\n",
       "      <td>control</td>\n",
       "      <td>old_page</td>\n",
       "      <td>1</td>\n",
       "    </tr>\n",
       "    <tr>\n",
       "      <th>255474</th>\n",
       "      <td>804465</td>\n",
       "      <td>2023-01-07 02:50:55.007712</td>\n",
       "      <td>test</td>\n",
       "      <td>old_page</td>\n",
       "      <td>0</td>\n",
       "    </tr>\n",
       "    <tr>\n",
       "      <th>85243</th>\n",
       "      <td>806294</td>\n",
       "      <td>2023-01-06 05:37:13.614177</td>\n",
       "      <td>control</td>\n",
       "      <td>old_page</td>\n",
       "      <td>1</td>\n",
       "    </tr>\n",
       "  </tbody>\n",
       "</table>\n",
       "</div>"
      ],
      "text/plain": [
       "        user_id                   timestamp    group landing_page  converted\n",
       "64747    668348  2023-01-13 23:03:00.871707     test     new_page          0\n",
       "271022   846237  2023-01-08 23:54:39.749796  control     old_page          0\n",
       "105763   904612  2023-01-06 13:33:32.920018     test     new_page          0\n",
       "31298    729992  2023-01-09 12:35:58.338542  control     old_page          0\n",
       "2265     671625  2023-01-06 06:45:36.898059  control     old_page          0\n",
       "138193   688175  2023-01-14 16:24:48.010241     test     new_page          0\n",
       "100337   894912  2023-01-11 12:12:53.149893     test     new_page          0\n",
       "63110    689680  2023-01-21 12:53:33.487486  control     old_page          1\n",
       "255474   804465  2023-01-07 02:50:55.007712     test     old_page          0\n",
       "85243    806294  2023-01-06 05:37:13.614177  control     old_page          1"
      ]
     },
     "execution_count": 47,
     "metadata": {},
     "output_type": "execute_result"
    }
   ],
   "source": [
    "df = pd.read_csv('datasets/ab_data_new.csv')\n",
    "df.sample(10) # возвращает случайные 10 строк\n",
    "\n",
    "# user_id -  идентификатор пользователя\n",
    "# timestamp - дата и время посещения веб-страницы\n",
    "# group - группа, к которой назначен пользователь\n",
    "# landing_page - информация о том, какую версию сайта пользователь видел\n",
    "# converted - информация о поведении пользователя: совершил ли пользователь покупку (1) или нет (0)"
   ]
  },
  {
   "cell_type": "code",
   "execution_count": 5,
   "id": "1cf27798-4d3f-4f6e-a15f-89e7a10a7c86",
   "metadata": {},
   "outputs": [
    {
     "name": "stdout",
     "output_type": "stream",
     "text": [
      "<class 'pandas.core.frame.DataFrame'>\n",
      "RangeIndex: 294478 entries, 0 to 294477\n",
      "Data columns (total 5 columns):\n",
      " #   Column        Non-Null Count   Dtype \n",
      "---  ------        --------------   ----- \n",
      " 0   user_id       294478 non-null  int64 \n",
      " 1   timestamp     294478 non-null  object\n",
      " 2   group         294478 non-null  object\n",
      " 3   landing_page  294478 non-null  object\n",
      " 4   converted     294478 non-null  int64 \n",
      "dtypes: int64(2), object(3)\n",
      "memory usage: 11.2+ MB\n"
     ]
    }
   ],
   "source": [
    "df.info()"
   ]
  },
  {
   "cell_type": "markdown",
   "id": "2a89c2d0",
   "metadata": {},
   "source": [
    "# III. Preparing Data"
   ]
  },
  {
   "cell_type": "code",
   "execution_count": 61,
   "id": "621b7b8d-ac29-4b87-9b63-6fc05816d20d",
   "metadata": {},
   "outputs": [
    {
     "data": {
      "text/html": [
       "<div>\n",
       "<style scoped>\n",
       "    .dataframe tbody tr th:only-of-type {\n",
       "        vertical-align: middle;\n",
       "    }\n",
       "\n",
       "    .dataframe tbody tr th {\n",
       "        vertical-align: top;\n",
       "    }\n",
       "\n",
       "    .dataframe thead th {\n",
       "        text-align: right;\n",
       "    }\n",
       "</style>\n",
       "<table border=\"1\" class=\"dataframe\">\n",
       "  <thead>\n",
       "    <tr style=\"text-align: right;\">\n",
       "      <th>landing_page</th>\n",
       "      <th>new_page</th>\n",
       "      <th>old_page</th>\n",
       "    </tr>\n",
       "    <tr>\n",
       "      <th>group</th>\n",
       "      <th></th>\n",
       "      <th></th>\n",
       "    </tr>\n",
       "  </thead>\n",
       "  <tbody>\n",
       "    <tr>\n",
       "      <th>control</th>\n",
       "      <td>0</td>\n",
       "      <td>145274</td>\n",
       "    </tr>\n",
       "    <tr>\n",
       "      <th>test</th>\n",
       "      <td>145310</td>\n",
       "      <td>0</td>\n",
       "    </tr>\n",
       "  </tbody>\n",
       "</table>\n",
       "</div>"
      ],
      "text/plain": [
       "landing_page  new_page  old_page\n",
       "group                           \n",
       "control              0    145274\n",
       "test            145310         0"
      ]
     },
     "execution_count": 61,
     "metadata": {},
     "output_type": "execute_result"
    }
   ],
   "source": [
    "# Проверка на наличие пользователей в контрольной группе, которые видели новую веб-страницу, и наоборот\n",
    "pd.crosstab(df['group'], df['landing_page'])"
   ]
  },
  {
   "cell_type": "code",
   "execution_count": 60,
   "id": "55df47f2-c9b6-4720-9fe3-6a26d6452a6b",
   "metadata": {},
   "outputs": [
    {
     "data": {
      "text/html": [
       "<div>\n",
       "<style scoped>\n",
       "    .dataframe tbody tr th:only-of-type {\n",
       "        vertical-align: middle;\n",
       "    }\n",
       "\n",
       "    .dataframe tbody tr th {\n",
       "        vertical-align: top;\n",
       "    }\n",
       "\n",
       "    .dataframe thead th {\n",
       "        text-align: right;\n",
       "    }\n",
       "</style>\n",
       "<table border=\"1\" class=\"dataframe\">\n",
       "  <thead>\n",
       "    <tr style=\"text-align: right;\">\n",
       "      <th>landing_page</th>\n",
       "      <th>new_page</th>\n",
       "      <th>old_page</th>\n",
       "    </tr>\n",
       "    <tr>\n",
       "      <th>group</th>\n",
       "      <th></th>\n",
       "      <th></th>\n",
       "    </tr>\n",
       "  </thead>\n",
       "  <tbody>\n",
       "    <tr>\n",
       "      <th>control</th>\n",
       "      <td>0</td>\n",
       "      <td>145274</td>\n",
       "    </tr>\n",
       "    <tr>\n",
       "      <th>test</th>\n",
       "      <td>145310</td>\n",
       "      <td>0</td>\n",
       "    </tr>\n",
       "  </tbody>\n",
       "</table>\n",
       "</div>"
      ],
      "text/plain": [
       "landing_page  new_page  old_page\n",
       "group                           \n",
       "control              0    145274\n",
       "test            145310         0"
      ]
     },
     "execution_count": 60,
     "metadata": {},
     "output_type": "execute_result"
    }
   ],
   "source": [
    "# Очистка данных от тех пользователей, которые в контрольной группе видели новую страницу, а в тестовой группе - старую страницу. \n",
    "df = df.query('(group == \"control\" & landing_page == \"old_page\") | (group == \"test\" & landing_page == \"new_page\")')\n",
    "pd.crosstab(df['group'], df['landing_page'])"
   ]
  },
  {
   "cell_type": "code",
   "execution_count": 50,
   "id": "dd9ca83a-86ad-48fc-91eb-cd3e9001920d",
   "metadata": {},
   "outputs": [
    {
     "data": {
      "text/plain": [
       "1899    773192\n",
       "2893    773192\n",
       "Name: user_id, dtype: int64"
      ]
     },
     "execution_count": 50,
     "metadata": {},
     "output_type": "execute_result"
    }
   ],
   "source": [
    "#Проверка на наличие повторяющихся значений в столбце user_id\n",
    "df[df.duplicated(['user_id'],keep=False)]['user_id']"
   ]
  },
  {
   "cell_type": "code",
   "execution_count": 51,
   "id": "2df0846e-2bdb-47f1-b5ac-4accb5517142",
   "metadata": {},
   "outputs": [
    {
     "data": {
      "text/html": [
       "<div>\n",
       "<style scoped>\n",
       "    .dataframe tbody tr th:only-of-type {\n",
       "        vertical-align: middle;\n",
       "    }\n",
       "\n",
       "    .dataframe tbody tr th {\n",
       "        vertical-align: top;\n",
       "    }\n",
       "\n",
       "    .dataframe thead th {\n",
       "        text-align: right;\n",
       "    }\n",
       "</style>\n",
       "<table border=\"1\" class=\"dataframe\">\n",
       "  <thead>\n",
       "    <tr style=\"text-align: right;\">\n",
       "      <th></th>\n",
       "      <th>user_id</th>\n",
       "      <th>timestamp</th>\n",
       "      <th>group</th>\n",
       "      <th>landing_page</th>\n",
       "      <th>converted</th>\n",
       "    </tr>\n",
       "  </thead>\n",
       "  <tbody>\n",
       "    <tr>\n",
       "      <th>1899</th>\n",
       "      <td>773192</td>\n",
       "      <td>2023-01-09 05:37:58.781806</td>\n",
       "      <td>test</td>\n",
       "      <td>new_page</td>\n",
       "      <td>0</td>\n",
       "    </tr>\n",
       "    <tr>\n",
       "      <th>2893</th>\n",
       "      <td>773192</td>\n",
       "      <td>2023-01-14 02:55:59.590927</td>\n",
       "      <td>test</td>\n",
       "      <td>new_page</td>\n",
       "      <td>0</td>\n",
       "    </tr>\n",
       "  </tbody>\n",
       "</table>\n",
       "</div>"
      ],
      "text/plain": [
       "      user_id                   timestamp group landing_page  converted\n",
       "1899   773192  2023-01-09 05:37:58.781806  test     new_page          0\n",
       "2893   773192  2023-01-14 02:55:59.590927  test     new_page          0"
      ]
     },
     "execution_count": 51,
     "metadata": {},
     "output_type": "execute_result"
    }
   ],
   "source": [
    "df[df['user_id'] == 773192]"
   ]
  },
  {
   "cell_type": "code",
   "execution_count": 52,
   "id": "25700985-6a06-4035-9bb7-61d55171d3c4",
   "metadata": {},
   "outputs": [],
   "source": [
    "# Пользователь c user_id = 773192 дважды видел новую страницу и ни разу не совершил конверсию\n",
    "# Необходимо удалить второй экземпляр для этого пользователя\n",
    "\n",
    "df = df.drop_duplicates(subset='user_id', keep=\"first\")"
   ]
  },
  {
   "cell_type": "markdown",
   "id": "aa8b48fb",
   "metadata": {},
   "source": [
    "# IV. Choosing a sample size \n",
    "\n",
    "Конверсия в компании составила 12%. За счёт проектирования новой веб-страницы компания хочет увеличить это число до 14%. \n",
    "Чтобы решить, какое количество людей нужно для доказательства или отклонения гипотезы, необходимо провести анализ мощности."
   ]
  },
  {
   "cell_type": "code",
   "execution_count": 53,
   "id": "14c78e1b-0fc8-41d2-bd69-ff6324f036a0",
   "metadata": {},
   "outputs": [
    {
     "name": "stdout",
     "output_type": "stream",
     "text": [
      "5934\n"
     ]
    }
   ],
   "source": [
    "# # Calculating effect size based on our expected rates\n",
    "effect_size = sms.proportion_effectsize(0.12, 0.14)  \n",
    "\n",
    "required_n = sms.NormalIndPower().solve_power(\n",
    "    effect_size, \n",
    "    power=0.9,  #power of a test (defualt is 0.8)\n",
    "    alpha=0.05, #p-value\n",
    "    ratio=1\n",
    "    ) # Calculating sample size needed\n",
    "\n",
    "# Rounding up to next whole number \n",
    "required_n = ceil(required_n)                                                 \n",
    "\n",
    "print(required_n)"
   ]
  },
  {
   "cell_type": "markdown",
   "id": "0d7fe57b",
   "metadata": {},
   "source": [
    "Следовательно, нам нужно 5934 пользователя в контрольной группе и 5934 пользователя в тестовой группе."
   ]
  },
  {
   "cell_type": "markdown",
   "id": "eafb5dea",
   "metadata": {},
   "source": [
    "# V. Sampling\n",
    "Очистив данные, необходимо произвести выборку, отобрав 5934 ползователя для каждой из групп. Для этого можно воспользоваться методом DataFrame.sample() от pandas, который создаст случайную выборку с нужным числом пользователей."
   ]
  },
  {
   "cell_type": "code",
   "execution_count": 15,
   "id": "5b635304-f4f1-4dbf-915c-f1e16ec3431b",
   "metadata": {},
   "outputs": [
    {
     "data": {
      "text/plain": [
       "(290584, 5)"
      ]
     },
     "execution_count": 15,
     "metadata": {},
     "output_type": "execute_result"
    }
   ],
   "source": [
    "df.shape"
   ]
  },
  {
   "cell_type": "code",
   "execution_count": 56,
   "id": "94b39ad5-3bc3-45a3-a275-3c2ac01e846f",
   "metadata": {},
   "outputs": [],
   "source": [
    "control_group = df.query('group == \"control\"').sample(required_n)\n",
    "test_group = df.query('group == \"test\"').sample(required_n)"
   ]
  },
  {
   "cell_type": "code",
   "execution_count": 55,
   "id": "90798cbe-6ea0-4d8b-8115-8eaafb299fd2",
   "metadata": {},
   "outputs": [
    {
     "data": {
      "text/html": [
       "<div>\n",
       "<style scoped>\n",
       "    .dataframe tbody tr th:only-of-type {\n",
       "        vertical-align: middle;\n",
       "    }\n",
       "\n",
       "    .dataframe tbody tr th {\n",
       "        vertical-align: top;\n",
       "    }\n",
       "\n",
       "    .dataframe thead th {\n",
       "        text-align: right;\n",
       "    }\n",
       "</style>\n",
       "<table border=\"1\" class=\"dataframe\">\n",
       "  <thead>\n",
       "    <tr style=\"text-align: right;\">\n",
       "      <th></th>\n",
       "      <th>user_id</th>\n",
       "      <th>timestamp</th>\n",
       "      <th>group</th>\n",
       "      <th>landing_page</th>\n",
       "      <th>converted</th>\n",
       "    </tr>\n",
       "  </thead>\n",
       "  <tbody>\n",
       "    <tr>\n",
       "      <th>42957</th>\n",
       "      <td>793518</td>\n",
       "      <td>2023-01-15 05:53:59.745542</td>\n",
       "      <td>control</td>\n",
       "      <td>old_page</td>\n",
       "      <td>0</td>\n",
       "    </tr>\n",
       "    <tr>\n",
       "      <th>69519</th>\n",
       "      <td>930514</td>\n",
       "      <td>2023-01-03 00:25:39.031450</td>\n",
       "      <td>control</td>\n",
       "      <td>old_page</td>\n",
       "      <td>0</td>\n",
       "    </tr>\n",
       "    <tr>\n",
       "      <th>9455</th>\n",
       "      <td>841660</td>\n",
       "      <td>2023-01-18 18:04:27.983451</td>\n",
       "      <td>control</td>\n",
       "      <td>old_page</td>\n",
       "      <td>0</td>\n",
       "    </tr>\n",
       "    <tr>\n",
       "      <th>253116</th>\n",
       "      <td>776611</td>\n",
       "      <td>2023-01-08 15:12:42.220803</td>\n",
       "      <td>control</td>\n",
       "      <td>old_page</td>\n",
       "      <td>0</td>\n",
       "    </tr>\n",
       "    <tr>\n",
       "      <th>267702</th>\n",
       "      <td>925258</td>\n",
       "      <td>2023-01-24 02:07:08.180360</td>\n",
       "      <td>control</td>\n",
       "      <td>old_page</td>\n",
       "      <td>1</td>\n",
       "    </tr>\n",
       "  </tbody>\n",
       "</table>\n",
       "</div>"
      ],
      "text/plain": [
       "        user_id                   timestamp    group landing_page  converted\n",
       "42957    793518  2023-01-15 05:53:59.745542  control     old_page          0\n",
       "69519    930514  2023-01-03 00:25:39.031450  control     old_page          0\n",
       "9455     841660  2023-01-18 18:04:27.983451  control     old_page          0\n",
       "253116   776611  2023-01-08 15:12:42.220803  control     old_page          0\n",
       "267702   925258  2023-01-24 02:07:08.180360  control     old_page          1"
      ]
     },
     "execution_count": 55,
     "metadata": {},
     "output_type": "execute_result"
    }
   ],
   "source": [
    "control_group.head()"
   ]
  },
  {
   "cell_type": "code",
   "execution_count": 57,
   "id": "fa664e10-e987-48c2-8b79-6f3f48974d7c",
   "metadata": {},
   "outputs": [
    {
     "data": {
      "text/html": [
       "<div>\n",
       "<style scoped>\n",
       "    .dataframe tbody tr th:only-of-type {\n",
       "        vertical-align: middle;\n",
       "    }\n",
       "\n",
       "    .dataframe tbody tr th {\n",
       "        vertical-align: top;\n",
       "    }\n",
       "\n",
       "    .dataframe thead th {\n",
       "        text-align: right;\n",
       "    }\n",
       "</style>\n",
       "<table border=\"1\" class=\"dataframe\">\n",
       "  <thead>\n",
       "    <tr style=\"text-align: right;\">\n",
       "      <th></th>\n",
       "      <th>user_id</th>\n",
       "      <th>timestamp</th>\n",
       "      <th>group</th>\n",
       "      <th>landing_page</th>\n",
       "      <th>converted</th>\n",
       "    </tr>\n",
       "  </thead>\n",
       "  <tbody>\n",
       "    <tr>\n",
       "      <th>120148</th>\n",
       "      <td>920313</td>\n",
       "      <td>2023-01-13 02:03:24.178921</td>\n",
       "      <td>test</td>\n",
       "      <td>new_page</td>\n",
       "      <td>0</td>\n",
       "    </tr>\n",
       "    <tr>\n",
       "      <th>180088</th>\n",
       "      <td>709476</td>\n",
       "      <td>2023-01-15 22:37:02.722020</td>\n",
       "      <td>test</td>\n",
       "      <td>new_page</td>\n",
       "      <td>0</td>\n",
       "    </tr>\n",
       "    <tr>\n",
       "      <th>221438</th>\n",
       "      <td>735933</td>\n",
       "      <td>2023-01-06 21:47:00.083058</td>\n",
       "      <td>test</td>\n",
       "      <td>new_page</td>\n",
       "      <td>0</td>\n",
       "    </tr>\n",
       "    <tr>\n",
       "      <th>109152</th>\n",
       "      <td>803476</td>\n",
       "      <td>2023-01-07 10:39:52.175119</td>\n",
       "      <td>test</td>\n",
       "      <td>new_page</td>\n",
       "      <td>0</td>\n",
       "    </tr>\n",
       "    <tr>\n",
       "      <th>289487</th>\n",
       "      <td>773406</td>\n",
       "      <td>2023-01-15 14:57:08.427860</td>\n",
       "      <td>test</td>\n",
       "      <td>new_page</td>\n",
       "      <td>0</td>\n",
       "    </tr>\n",
       "  </tbody>\n",
       "</table>\n",
       "</div>"
      ],
      "text/plain": [
       "        user_id                   timestamp group landing_page  converted\n",
       "120148   920313  2023-01-13 02:03:24.178921  test     new_page          0\n",
       "180088   709476  2023-01-15 22:37:02.722020  test     new_page          0\n",
       "221438   735933  2023-01-06 21:47:00.083058  test     new_page          0\n",
       "109152   803476  2023-01-07 10:39:52.175119  test     new_page          0\n",
       "289487   773406  2023-01-15 14:57:08.427860  test     new_page          0"
      ]
     },
     "execution_count": 57,
     "metadata": {},
     "output_type": "execute_result"
    }
   ],
   "source": [
    "test_group.head()"
   ]
  },
  {
   "cell_type": "code",
   "execution_count": 58,
   "id": "b3b5e353-e04a-422d-9812-ee13571c1c33",
   "metadata": {},
   "outputs": [],
   "source": [
    "ab_test = pd.concat([control_group, test_group], axis=0)\n",
    "ab_test.reset_index(inplace=True, drop=True)"
   ]
  },
  {
   "cell_type": "code",
   "execution_count": 59,
   "id": "8a7d5d86-c5a5-46c1-bcb2-7201ebf50adf",
   "metadata": {},
   "outputs": [
    {
     "data": {
      "text/html": [
       "<div>\n",
       "<style scoped>\n",
       "    .dataframe tbody tr th:only-of-type {\n",
       "        vertical-align: middle;\n",
       "    }\n",
       "\n",
       "    .dataframe tbody tr th {\n",
       "        vertical-align: top;\n",
       "    }\n",
       "\n",
       "    .dataframe thead th {\n",
       "        text-align: right;\n",
       "    }\n",
       "</style>\n",
       "<table border=\"1\" class=\"dataframe\">\n",
       "  <thead>\n",
       "    <tr style=\"text-align: right;\">\n",
       "      <th></th>\n",
       "      <th>user_id</th>\n",
       "      <th>timestamp</th>\n",
       "      <th>group</th>\n",
       "      <th>landing_page</th>\n",
       "      <th>converted</th>\n",
       "    </tr>\n",
       "  </thead>\n",
       "  <tbody>\n",
       "    <tr>\n",
       "      <th>0</th>\n",
       "      <td>808987</td>\n",
       "      <td>2023-01-20 13:11:42.023461</td>\n",
       "      <td>control</td>\n",
       "      <td>old_page</td>\n",
       "      <td>0</td>\n",
       "    </tr>\n",
       "    <tr>\n",
       "      <th>1</th>\n",
       "      <td>927247</td>\n",
       "      <td>2023-01-17 04:45:21.607385</td>\n",
       "      <td>control</td>\n",
       "      <td>old_page</td>\n",
       "      <td>0</td>\n",
       "    </tr>\n",
       "    <tr>\n",
       "      <th>2</th>\n",
       "      <td>803690</td>\n",
       "      <td>2023-01-20 01:12:16.309810</td>\n",
       "      <td>control</td>\n",
       "      <td>old_page</td>\n",
       "      <td>0</td>\n",
       "    </tr>\n",
       "    <tr>\n",
       "      <th>3</th>\n",
       "      <td>666985</td>\n",
       "      <td>2023-01-12 15:59:02.683733</td>\n",
       "      <td>control</td>\n",
       "      <td>old_page</td>\n",
       "      <td>0</td>\n",
       "    </tr>\n",
       "    <tr>\n",
       "      <th>4</th>\n",
       "      <td>886423</td>\n",
       "      <td>2023-01-05 22:28:48.144920</td>\n",
       "      <td>control</td>\n",
       "      <td>old_page</td>\n",
       "      <td>0</td>\n",
       "    </tr>\n",
       "  </tbody>\n",
       "</table>\n",
       "</div>"
      ],
      "text/plain": [
       "   user_id                   timestamp    group landing_page  converted\n",
       "0   808987  2023-01-20 13:11:42.023461  control     old_page          0\n",
       "1   927247  2023-01-17 04:45:21.607385  control     old_page          0\n",
       "2   803690  2023-01-20 01:12:16.309810  control     old_page          0\n",
       "3   666985  2023-01-12 15:59:02.683733  control     old_page          0\n",
       "4   886423  2023-01-05 22:28:48.144920  control     old_page          0"
      ]
     },
     "execution_count": 59,
     "metadata": {},
     "output_type": "execute_result"
    }
   ],
   "source": [
    "ab_test.head()"
   ]
  },
  {
   "cell_type": "code",
   "execution_count": 29,
   "id": "b9adbbb3-3abe-4e7d-b6ed-c5c8099aff9f",
   "metadata": {},
   "outputs": [
    {
     "name": "stdout",
     "output_type": "stream",
     "text": [
      "<class 'pandas.core.frame.DataFrame'>\n",
      "RangeIndex: 11868 entries, 0 to 11867\n",
      "Data columns (total 5 columns):\n",
      " #   Column        Non-Null Count  Dtype \n",
      "---  ------        --------------  ----- \n",
      " 0   user_id       11868 non-null  int64 \n",
      " 1   timestamp     11868 non-null  object\n",
      " 2   group         11868 non-null  object\n",
      " 3   landing_page  11868 non-null  object\n",
      " 4   converted     11868 non-null  int64 \n",
      "dtypes: int64(2), object(3)\n",
      "memory usage: 463.7+ KB\n"
     ]
    }
   ],
   "source": [
    "ab_test.info()"
   ]
  },
  {
   "cell_type": "code",
   "execution_count": 30,
   "id": "23844d69-014d-4943-9f5c-341e137c0fae",
   "metadata": {},
   "outputs": [
    {
     "data": {
      "text/plain": [
       "group\n",
       "control      5934\n",
       "treatment    5934\n",
       "Name: count, dtype: int64"
      ]
     },
     "execution_count": 30,
     "metadata": {},
     "output_type": "execute_result"
    }
   ],
   "source": [
    "ab_test.group.value_counts()"
   ]
  },
  {
   "cell_type": "markdown",
   "id": "c408a5d5",
   "metadata": {},
   "source": [
    "# VI. Visualising the results\n",
    "Расчёт статистических параметров"
   ]
  },
  {
   "cell_type": "code",
   "execution_count": 38,
   "id": "155bdad6-ffdc-4a2f-bf63-e287b8a21e1f",
   "metadata": {},
   "outputs": [
    {
     "data": {
      "text/html": [
       "<style type=\"text/css\">\n",
       "</style>\n",
       "<table id=\"T_ffba7\">\n",
       "  <thead>\n",
       "    <tr>\n",
       "      <th class=\"blank level0\" >&nbsp;</th>\n",
       "      <th id=\"T_ffba7_level0_col0\" class=\"col_heading level0 col0\" >conversion_rate</th>\n",
       "      <th id=\"T_ffba7_level0_col1\" class=\"col_heading level0 col1\" >std_deviation</th>\n",
       "      <th id=\"T_ffba7_level0_col2\" class=\"col_heading level0 col2\" >std_error</th>\n",
       "    </tr>\n",
       "    <tr>\n",
       "      <th class=\"index_name level0\" >group</th>\n",
       "      <th class=\"blank col0\" >&nbsp;</th>\n",
       "      <th class=\"blank col1\" >&nbsp;</th>\n",
       "      <th class=\"blank col2\" >&nbsp;</th>\n",
       "    </tr>\n",
       "  </thead>\n",
       "  <tbody>\n",
       "    <tr>\n",
       "      <th id=\"T_ffba7_level0_row0\" class=\"row_heading level0 row0\" >control</th>\n",
       "      <td id=\"T_ffba7_row0_col0\" class=\"data row0 col0\" >0.119</td>\n",
       "      <td id=\"T_ffba7_row0_col1\" class=\"data row0 col1\" >0.323</td>\n",
       "      <td id=\"T_ffba7_row0_col2\" class=\"data row0 col2\" >0.004</td>\n",
       "    </tr>\n",
       "    <tr>\n",
       "      <th id=\"T_ffba7_level0_row1\" class=\"row_heading level0 row1\" >treatment</th>\n",
       "      <td id=\"T_ffba7_row1_col0\" class=\"data row1 col0\" >0.125</td>\n",
       "      <td id=\"T_ffba7_row1_col1\" class=\"data row1 col1\" >0.331</td>\n",
       "      <td id=\"T_ffba7_row1_col2\" class=\"data row1 col2\" >0.004</td>\n",
       "    </tr>\n",
       "  </tbody>\n",
       "</table>\n"
      ],
      "text/plain": [
       "<pandas.io.formats.style.Styler at 0x208a8fe2ed0>"
      ]
     },
     "execution_count": 38,
     "metadata": {},
     "output_type": "execute_result"
    }
   ],
   "source": [
    "conversion_rates = ab_test.groupby('group')['converted']\n",
    "\n",
    "std_p = lambda x: np.std(x, ddof=1)              # Std. deviation of the proportion\n",
    "se_p = lambda x: stats.sem(x, ddof=1)            # Std. error of the proportion (std / sqrt(n))\n",
    "\n",
    "conversion_rates = conversion_rates.agg(['mean', std_p, se_p])\n",
    "conversion_rates.columns = ['conversion_rate', 'std_deviation', 'std_error']\n",
    "\n",
    "conversion_rates.style.format('{:.3f}')"
   ]
  },
  {
   "cell_type": "markdown",
   "id": "844bbf15",
   "metadata": {},
   "source": [
    "В контрольной группе коэффициент конверсии составил 11,9%, а в тестовой группе - 12,5%."
   ]
  },
  {
   "cell_type": "markdown",
   "id": "e9a1427d",
   "metadata": {},
   "source": [
    "Построение графиков:"
   ]
  },
  {
   "cell_type": "code",
   "execution_count": 42,
   "id": "b7e327eb-db87-41dc-9af2-7327c995b136",
   "metadata": {},
   "outputs": [
    {
     "data": {
      "image/png": "[encoded data removed]",
      "text/plain": [
       "<Figure size 640x480 with 1 Axes>"
      ]
     },
     "metadata": {},
     "output_type": "display_data"
    }
   ],
   "source": [
    "#sns.barplot(x=ab_test['group'], y=ab_test['converted'], ci=False, palette='Set3')\n",
    "sns.barplot(x=ab_test['group'], y=ab_test['converted'], errorbar=('ci', False), hue=ab_test['group'], legend=False, palette='Set3')\n",
    "#sns.barplot(x=ab_test['group'], y=ab_test['converted'], errorbar=('ci', False), palette='Set3')\n",
    "plt.ylim(0, 0.15)\n",
    "plt.title('Conversion rate by group', pad=20)\n",
    "plt.xlabel('Group', labelpad=15)\n",
    "plt.ylabel('Converted (proportion)', labelpad=15)\n",
    "plt.show()"
   ]
  },
  {
   "cell_type": "markdown",
   "id": "8900ea36",
   "metadata": {},
   "source": [
    "Показатели конверсии в группах очень близки. Также обратите внимание, что показатель конверсии в контрольной группе ниже, чем мы ожидали, учитывая то, что мы знали о нашем среднем показателе конверсии (12,3% против 13%). Это показывает, что при выборке из популяции существует некоторая вариабельность результатов.\n",
    "\n",
    "Значение конверсии в тестовой группе выше. Необходимо определить, является ли это различие статистически значимым."
   ]
  },
  {
   "cell_type": "markdown",
   "id": "0a3cb211",
   "metadata": {},
   "source": [
    "# VII. Testing the hypothesis\n",
    "Предпоследним шагом анализа является проверка нашей гипотезы. Поскольку имеется большая выборка, в которой известно изначальное стандартное отклонение, будем использовать z-статистику."
   ]
  },
  {
   "cell_type": "code",
   "execution_count": 43,
   "id": "625aadbe-ec88-4733-bb2f-7b68865e1136",
   "metadata": {},
   "outputs": [],
   "source": [
    "# воспользуемся модулем statsmodels.stats.proportion,\n",
    "# чтобы получить p-значение и доверительные интервалы\n",
    "from statsmodels.stats.proportion import proportions_ztest, proportion_confint"
   ]
  },
  {
   "cell_type": "code",
   "execution_count": 44,
   "id": "9de6917f-4802-4d2b-97cc-9f52bc086cef",
   "metadata": {},
   "outputs": [],
   "source": [
    "control_conversion = ab_test.query('group == \"control\"')['converted']\n",
    "treatment_conversion = ab_test.query('group == \"treatment\"')['converted']"
   ]
  },
  {
   "cell_type": "code",
   "execution_count": 45,
   "id": "742f56f1-b06c-44f9-bd87-b8123c18d500",
   "metadata": {},
   "outputs": [
    {
     "name": "stdout",
     "output_type": "stream",
     "text": [
      "z statistic: -1.09\n",
      "p-value: 0.274\n",
      "95% Confidence interval for control group: [0.110, 0.127]\n",
      "95% Confidence interval for treatment group: [0.117, 0.134]\n"
     ]
    }
   ],
   "source": [
    "nobs = [control_conversion.count(), treatment_conversion.count()]\n",
    "successes = [control_conversion.sum(), treatment_conversion.sum()]\n",
    "\n",
    "z_stat, pval = proportions_ztest(successes, nobs=nobs)\n",
    "(lower_con, lower_treat), (upper_con, upper_treat) = proportion_confint(successes, nobs=nobs, alpha=0.05)\n",
    "\n",
    "print(f'z statistic: {z_stat:.2f}')\n",
    "print(f'p-value: {pval:.3f}')\n",
    "print(f'95% Confidence interval for control group: [{lower_con:.3f}, {upper_con:.3f}]')\n",
    "print(f'95% Confidence interval for treatment group: [{lower_treat:.3f}, {upper_treat:.3f}]')"
   ]
  },
  {
   "cell_type": "markdown",
   "id": "1f67cd36",
   "metadata": {},
   "source": [
    "# VIII.  Drawing conclusions\n",
    "Несмотря на то, что на первый взгляд коэффициент конверсии в тестовой группе оказался немного выше, значение p>0,05, поэтому нет возможностей отклонить нулевую гипотезу. Кроме того, доверительные интервалы включают наше базовое значение коэффициента конверсии в 12%.\n",
    "\n",
    "Таким образом, эта новая версия сайта не может существенно увеличить конверсию. По результатам A/B-теста мы пришли к выводу, что компании нет смысла внедрять новую версию сайта."
   ]
  }
 ],
 "metadata": {
  "kernelspec": {
   "display_name": "Python 3 (ipykernel)",
   "language": "python",
   "name": "python3"
  },
  "language_info": {
   "codemirror_mode": {
    "name": "ipython",
    "version": 3
   },
   "file_extension": ".py",
   "mimetype": "text/x-python",
   "name": "python",
   "nbconvert_exporter": "python",
   "pygments_lexer": "ipython3",
   "version": "3.11.4"
  }
 },
 "nbformat": 4,
 "nbformat_minor": 5
}
